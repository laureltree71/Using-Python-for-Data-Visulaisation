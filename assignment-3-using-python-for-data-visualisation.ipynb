{
 "cells": [
  {
   "cell_type": "code",
   "execution_count": 1,
   "id": "b531557b",
   "metadata": {
    "_cell_guid": "b1076dfc-b9ad-4769-8c92-a6c4dae69d19",
    "_uuid": "8f2839f25d086af736a60e9eeb907d3b93b6e0e5",
    "execution": {
     "iopub.execute_input": "2024-09-29T13:25:48.201961Z",
     "iopub.status.busy": "2024-09-29T13:25:48.201487Z",
     "iopub.status.idle": "2024-09-29T13:25:49.208358Z",
     "shell.execute_reply": "2024-09-29T13:25:49.206998Z"
    },
    "papermill": {
     "duration": 1.030904,
     "end_time": "2024-09-29T13:25:49.211384",
     "exception": false,
     "start_time": "2024-09-29T13:25:48.180480",
     "status": "completed"
    },
    "tags": []
   },
   "outputs": [
    {
     "name": "stdout",
     "output_type": "stream",
     "text": [
      "/kaggle/input/car-insurance-data/Car_Insurance_Claim.csv\n"
     ]
    }
   ],
   "source": [
    "# This Python 3 environment comes with many helpful analytics libraries installed\n",
    "# It is defined by the kaggle/python Docker image: https://github.com/kaggle/docker-python\n",
    "# For example, here's several helpful packages to load\n",
    "\n",
    "import numpy as np # linear algebra\n",
    "import pandas as pd # data processing, CSV file I/O (e.g. pd.read_csv)\n",
    "\n",
    "# Input data files are available in the read-only \"../input/\" directory\n",
    "# For example, running this (by clicking run or pressing Shift+Enter) will list all files under the input directory\n",
    "\n",
    "import os\n",
    "for dirname, _, filenames in os.walk('/kaggle/input'):\n",
    "    for filename in filenames:\n",
    "        print(os.path.join(dirname, filename))\n",
    "\n",
    "# You can write up to 20GB to the current directory (/kaggle/working/) that gets preserved as output when you create a version using \"Save & Run All\" \n",
    "# You can also write temporary files to /kaggle/temp/, but they won't be saved outside of the current session"
   ]
  },
  {
   "cell_type": "markdown",
   "id": "9887a545",
   "metadata": {
    "papermill": {
     "duration": 0.017206,
     "end_time": "2024-09-29T13:25:49.245955",
     "exception": false,
     "start_time": "2024-09-29T13:25:49.228749",
     "status": "completed"
    },
    "tags": []
   },
   "source": [
    "# **ASSIGNMENT 3 - DATA VISUALISATION USING PYTHON**\n",
    "*Laureen Pearce*\n",
    "​\n",
    "## **INTRODUCTION**\n",
    "## **Data Description**\n",
    "In this assignment I will be using Python to visualise data and provide an analysis of a dataset, sourced from Kaggle, called 'Car Insurance Data', which can be found at */kaggle/input/car-insurance-data/Car_Insurance_Claim.csv*. This dataset contains generic customer details for car insurance purchased in generic geographical region over a 12-month period.\n",
    "\n",
    "Missing data represented less than 10% of the entire dataset, so I removed only the rows with the missing information.\n",
    "\n",
    "The key variables used are Age, Driving Experience, Vehicle Ownership, Speeding Violations, DUIS (Driving Under the Influence) and Outcomes (Claims).\n",
    "\n",
    "The dataset is suitable for analysing customer behaviours, for comparisons across various indicators to determine where the highest levels of risk lie. This enables the insurer to provide a better product and make better decisions about the levels of risk they are willing to cover.\n",
    "\n",
    "The dataset contains generic data representing customers aged 16-65+ years, in a generic geographical area, most likely the United States or the United Kingdom, who have purchased car insurance from a generic insurance company, such as Ageas Insurance, and therefore includes personal data about each customer, such as their age, income bracket, driving experience, vehicle type and whether they have had any claims or motoring convictions before.\n",
    "​\n",
    "​\n",
    "## **Data Structure**\n",
    "​\n",
    "The dataset consists of 10,000 rows of customer information arranged in 19 columns, with the following headings:\n",
    "<ul>\n",
    "<li>ID</li>\n",
    "<li>AGE</li>\n",
    "<li>GENDER</li>\n",
    "<li>RACE</li>\n",
    "<li>DRIVING_EXPERIENCE</li>\n",
    "<li>EDUCATION</li>\n",
    "<li>INCOME</li>\n",
    "<li>CREDIT_SCORE</li>\n",
    "<li>VEHICLE_OWNERSHIP</li>\n",
    "<li>VEHICLE_YEAR</li>\n",
    "<li>MARRIED</li>\n",
    "<li>CHILDREN</li>\n",
    "<li>POSTAL_CODE</li>\n",
    "<li>ANNUAL_MILEAGE</li>\n",
    "<li>VEHICLE_TYPE</li>\n",
    "<li>SPEEDING_VIOLATIONS</li>\n",
    "<li>DUIS</li>\n",
    "<li>PAST_ACCIDENTS</li>\n",
    "<li>OUTCOME</li>\n",
    "</ul>\n",
    "\n",
    "\n",
    "## **Key Features**\n",
    "The key columns for vehicle details are: VEHICLE_OWNERSHIP, VEHICLE_YEAR, ANNUAL_MILEAGE, VEHICLE_TYPE\n",
    "\n",
    "The key columns for driving history are: DRIVING_EXPERIENCE, SPEEDING_VIOLATIONS, DUIS, PAST_ACCIDENTS, OUTCOME (Claims made)\n",
    "\n",
    "The key columns for customer personal details are: AGE, GENDER, RACE, EDUCATION, INCOME, CREDIT_SCORE, MARRIED, CHILDREN, POSTAL_CODE"
   ]
  },
  {
   "cell_type": "markdown",
   "id": "3b0dcca4",
   "metadata": {
    "papermill": {
     "duration": 0.017197,
     "end_time": "2024-09-29T13:25:49.281259",
     "exception": false,
     "start_time": "2024-09-29T13:25:49.264062",
     "status": "completed"
    },
    "tags": []
   },
   "source": [
    "## **THE PROJECT SETUP**\n",
    "\n",
    "### **Installing the Libraries**\n",
    "\n",
    "The Pandas, MatPlotLib and Seabord libraries are already automatically installed on Kaggle, at the start of this notebook, but in the event that they are not, I would use the following command line to install them manually:\n",
    "\n",
    "*pip install pandas matplotlib seaborn*"
   ]
  },
  {
   "cell_type": "markdown",
   "id": "aa554431",
   "metadata": {
    "papermill": {
     "duration": 0.016253,
     "end_time": "2024-09-29T13:25:49.314245",
     "exception": false,
     "start_time": "2024-09-29T13:25:49.297992",
     "status": "completed"
    },
    "tags": []
   },
   "source": [
    "## **DATA LOADING AND INSPECTION - STEP-BY-STEP**\n",
    "\n",
    "### **Step 1 - Importing the Libraries**\n",
    "\n",
    "Again, the libraries are already automatically imported into this notebook at the start, but to manually import them I would use the followng command:"
   ]
  },
  {
   "cell_type": "code",
   "execution_count": 2,
   "id": "0a0f1f28",
   "metadata": {
    "execution": {
     "iopub.execute_input": "2024-09-29T13:25:49.351177Z",
     "iopub.status.busy": "2024-09-29T13:25:49.349872Z",
     "iopub.status.idle": "2024-09-29T13:25:51.299645Z",
     "shell.execute_reply": "2024-09-29T13:25:51.298575Z"
    },
    "papermill": {
     "duration": 1.970827,
     "end_time": "2024-09-29T13:25:51.302436",
     "exception": false,
     "start_time": "2024-09-29T13:25:49.331609",
     "status": "completed"
    },
    "tags": []
   },
   "outputs": [],
   "source": [
    "import pandas as pd\n",
    "import matplotlib.pyplot as plt\n",
    "import seaborn as sns"
   ]
  },
  {
   "cell_type": "markdown",
   "id": "84d5f718",
   "metadata": {
    "papermill": {
     "duration": 0.016655,
     "end_time": "2024-09-29T13:25:51.336643",
     "exception": false,
     "start_time": "2024-09-29T13:25:51.319988",
     "status": "completed"
    },
    "tags": []
   },
   "source": [
    "### **Step 2 - Loading the Dataset Using Pandas**"
   ]
  },
  {
   "cell_type": "code",
   "execution_count": 3,
   "id": "299e42eb",
   "metadata": {
    "execution": {
     "iopub.execute_input": "2024-09-29T13:25:51.371984Z",
     "iopub.status.busy": "2024-09-29T13:25:51.371374Z",
     "iopub.status.idle": "2024-09-29T13:25:51.449126Z",
     "shell.execute_reply": "2024-09-29T13:25:51.448095Z"
    },
    "papermill": {
     "duration": 0.098694,
     "end_time": "2024-09-29T13:25:51.451893",
     "exception": false,
     "start_time": "2024-09-29T13:25:51.353199",
     "status": "completed"
    },
    "tags": []
   },
   "outputs": [],
   "source": [
    "df_carins=pd.read_csv('/kaggle/input/car-insurance-data/Car_Insurance_Claim.csv')"
   ]
  },
  {
   "cell_type": "markdown",
   "id": "3cc2b19f",
   "metadata": {
    "papermill": {
     "duration": 0.016198,
     "end_time": "2024-09-29T13:25:51.485779",
     "exception": false,
     "start_time": "2024-09-29T13:25:51.469581",
     "status": "completed"
    },
    "tags": []
   },
   "source": [
    "### **Step 3 - Inspecting the Data**"
   ]
  },
  {
   "cell_type": "code",
   "execution_count": 4,
   "id": "e206f6c9",
   "metadata": {
    "execution": {
     "iopub.execute_input": "2024-09-29T13:25:51.521740Z",
     "iopub.status.busy": "2024-09-29T13:25:51.521326Z",
     "iopub.status.idle": "2024-09-29T13:25:51.558615Z",
     "shell.execute_reply": "2024-09-29T13:25:51.557339Z"
    },
    "papermill": {
     "duration": 0.058826,
     "end_time": "2024-09-29T13:25:51.561203",
     "exception": false,
     "start_time": "2024-09-29T13:25:51.502377",
     "status": "completed"
    },
    "tags": []
   },
   "outputs": [
    {
     "data": {
      "text/html": [
       "<div>\n",
       "<style scoped>\n",
       "    .dataframe tbody tr th:only-of-type {\n",
       "        vertical-align: middle;\n",
       "    }\n",
       "\n",
       "    .dataframe tbody tr th {\n",
       "        vertical-align: top;\n",
       "    }\n",
       "\n",
       "    .dataframe thead th {\n",
       "        text-align: right;\n",
       "    }\n",
       "</style>\n",
       "<table border=\"1\" class=\"dataframe\">\n",
       "  <thead>\n",
       "    <tr style=\"text-align: right;\">\n",
       "      <th></th>\n",
       "      <th>ID</th>\n",
       "      <th>AGE</th>\n",
       "      <th>GENDER</th>\n",
       "      <th>RACE</th>\n",
       "      <th>DRIVING_EXPERIENCE</th>\n",
       "      <th>EDUCATION</th>\n",
       "      <th>INCOME</th>\n",
       "      <th>CREDIT_SCORE</th>\n",
       "      <th>VEHICLE_OWNERSHIP</th>\n",
       "      <th>VEHICLE_YEAR</th>\n",
       "      <th>MARRIED</th>\n",
       "      <th>CHILDREN</th>\n",
       "      <th>POSTAL_CODE</th>\n",
       "      <th>ANNUAL_MILEAGE</th>\n",
       "      <th>VEHICLE_TYPE</th>\n",
       "      <th>SPEEDING_VIOLATIONS</th>\n",
       "      <th>DUIS</th>\n",
       "      <th>PAST_ACCIDENTS</th>\n",
       "      <th>OUTCOME</th>\n",
       "    </tr>\n",
       "  </thead>\n",
       "  <tbody>\n",
       "    <tr>\n",
       "      <th>0</th>\n",
       "      <td>569520</td>\n",
       "      <td>65+</td>\n",
       "      <td>female</td>\n",
       "      <td>majority</td>\n",
       "      <td>0-9y</td>\n",
       "      <td>high school</td>\n",
       "      <td>upper class</td>\n",
       "      <td>0.629027</td>\n",
       "      <td>1.0</td>\n",
       "      <td>after 2015</td>\n",
       "      <td>0.0</td>\n",
       "      <td>1.0</td>\n",
       "      <td>10238</td>\n",
       "      <td>12000.0</td>\n",
       "      <td>sedan</td>\n",
       "      <td>0</td>\n",
       "      <td>0</td>\n",
       "      <td>0</td>\n",
       "      <td>0.0</td>\n",
       "    </tr>\n",
       "    <tr>\n",
       "      <th>1</th>\n",
       "      <td>750365</td>\n",
       "      <td>16-25</td>\n",
       "      <td>male</td>\n",
       "      <td>majority</td>\n",
       "      <td>0-9y</td>\n",
       "      <td>none</td>\n",
       "      <td>poverty</td>\n",
       "      <td>0.357757</td>\n",
       "      <td>0.0</td>\n",
       "      <td>before 2015</td>\n",
       "      <td>0.0</td>\n",
       "      <td>0.0</td>\n",
       "      <td>10238</td>\n",
       "      <td>16000.0</td>\n",
       "      <td>sedan</td>\n",
       "      <td>0</td>\n",
       "      <td>0</td>\n",
       "      <td>0</td>\n",
       "      <td>1.0</td>\n",
       "    </tr>\n",
       "    <tr>\n",
       "      <th>2</th>\n",
       "      <td>199901</td>\n",
       "      <td>16-25</td>\n",
       "      <td>female</td>\n",
       "      <td>majority</td>\n",
       "      <td>0-9y</td>\n",
       "      <td>high school</td>\n",
       "      <td>working class</td>\n",
       "      <td>0.493146</td>\n",
       "      <td>1.0</td>\n",
       "      <td>before 2015</td>\n",
       "      <td>0.0</td>\n",
       "      <td>0.0</td>\n",
       "      <td>10238</td>\n",
       "      <td>11000.0</td>\n",
       "      <td>sedan</td>\n",
       "      <td>0</td>\n",
       "      <td>0</td>\n",
       "      <td>0</td>\n",
       "      <td>0.0</td>\n",
       "    </tr>\n",
       "    <tr>\n",
       "      <th>3</th>\n",
       "      <td>478866</td>\n",
       "      <td>16-25</td>\n",
       "      <td>male</td>\n",
       "      <td>majority</td>\n",
       "      <td>0-9y</td>\n",
       "      <td>university</td>\n",
       "      <td>working class</td>\n",
       "      <td>0.206013</td>\n",
       "      <td>1.0</td>\n",
       "      <td>before 2015</td>\n",
       "      <td>0.0</td>\n",
       "      <td>1.0</td>\n",
       "      <td>32765</td>\n",
       "      <td>11000.0</td>\n",
       "      <td>sedan</td>\n",
       "      <td>0</td>\n",
       "      <td>0</td>\n",
       "      <td>0</td>\n",
       "      <td>0.0</td>\n",
       "    </tr>\n",
       "    <tr>\n",
       "      <th>4</th>\n",
       "      <td>731664</td>\n",
       "      <td>26-39</td>\n",
       "      <td>male</td>\n",
       "      <td>majority</td>\n",
       "      <td>10-19y</td>\n",
       "      <td>none</td>\n",
       "      <td>working class</td>\n",
       "      <td>0.388366</td>\n",
       "      <td>1.0</td>\n",
       "      <td>before 2015</td>\n",
       "      <td>0.0</td>\n",
       "      <td>0.0</td>\n",
       "      <td>32765</td>\n",
       "      <td>12000.0</td>\n",
       "      <td>sedan</td>\n",
       "      <td>2</td>\n",
       "      <td>0</td>\n",
       "      <td>1</td>\n",
       "      <td>1.0</td>\n",
       "    </tr>\n",
       "  </tbody>\n",
       "</table>\n",
       "</div>"
      ],
      "text/plain": [
       "       ID    AGE  GENDER      RACE DRIVING_EXPERIENCE    EDUCATION  \\\n",
       "0  569520    65+  female  majority               0-9y  high school   \n",
       "1  750365  16-25    male  majority               0-9y         none   \n",
       "2  199901  16-25  female  majority               0-9y  high school   \n",
       "3  478866  16-25    male  majority               0-9y   university   \n",
       "4  731664  26-39    male  majority             10-19y         none   \n",
       "\n",
       "          INCOME  CREDIT_SCORE  VEHICLE_OWNERSHIP VEHICLE_YEAR  MARRIED  \\\n",
       "0    upper class      0.629027                1.0   after 2015      0.0   \n",
       "1        poverty      0.357757                0.0  before 2015      0.0   \n",
       "2  working class      0.493146                1.0  before 2015      0.0   \n",
       "3  working class      0.206013                1.0  before 2015      0.0   \n",
       "4  working class      0.388366                1.0  before 2015      0.0   \n",
       "\n",
       "   CHILDREN  POSTAL_CODE  ANNUAL_MILEAGE VEHICLE_TYPE  SPEEDING_VIOLATIONS  \\\n",
       "0       1.0        10238         12000.0        sedan                    0   \n",
       "1       0.0        10238         16000.0        sedan                    0   \n",
       "2       0.0        10238         11000.0        sedan                    0   \n",
       "3       1.0        32765         11000.0        sedan                    0   \n",
       "4       0.0        32765         12000.0        sedan                    2   \n",
       "\n",
       "   DUIS  PAST_ACCIDENTS  OUTCOME  \n",
       "0     0               0      0.0  \n",
       "1     0               0      1.0  \n",
       "2     0               0      0.0  \n",
       "3     0               0      0.0  \n",
       "4     0               1      1.0  "
      ]
     },
     "execution_count": 4,
     "metadata": {},
     "output_type": "execute_result"
    }
   ],
   "source": [
    "# Viewing the first few rows:\n",
    "\n",
    "df_carins.head()"
   ]
  },
  {
   "cell_type": "code",
   "execution_count": 5,
   "id": "a9703fae",
   "metadata": {
    "execution": {
     "iopub.execute_input": "2024-09-29T13:25:51.597419Z",
     "iopub.status.busy": "2024-09-29T13:25:51.596944Z",
     "iopub.status.idle": "2024-09-29T13:25:51.631015Z",
     "shell.execute_reply": "2024-09-29T13:25:51.629577Z"
    },
    "papermill": {
     "duration": 0.055999,
     "end_time": "2024-09-29T13:25:51.634456",
     "exception": false,
     "start_time": "2024-09-29T13:25:51.578457",
     "status": "completed"
    },
    "tags": []
   },
   "outputs": [
    {
     "name": "stdout",
     "output_type": "stream",
     "text": [
      "<class 'pandas.core.frame.DataFrame'>\n",
      "RangeIndex: 10000 entries, 0 to 9999\n",
      "Data columns (total 19 columns):\n",
      " #   Column               Non-Null Count  Dtype  \n",
      "---  ------               --------------  -----  \n",
      " 0   ID                   10000 non-null  int64  \n",
      " 1   AGE                  10000 non-null  object \n",
      " 2   GENDER               10000 non-null  object \n",
      " 3   RACE                 10000 non-null  object \n",
      " 4   DRIVING_EXPERIENCE   10000 non-null  object \n",
      " 5   EDUCATION            10000 non-null  object \n",
      " 6   INCOME               10000 non-null  object \n",
      " 7   CREDIT_SCORE         9018 non-null   float64\n",
      " 8   VEHICLE_OWNERSHIP    10000 non-null  float64\n",
      " 9   VEHICLE_YEAR         10000 non-null  object \n",
      " 10  MARRIED              10000 non-null  float64\n",
      " 11  CHILDREN             10000 non-null  float64\n",
      " 12  POSTAL_CODE          10000 non-null  int64  \n",
      " 13  ANNUAL_MILEAGE       9043 non-null   float64\n",
      " 14  VEHICLE_TYPE         10000 non-null  object \n",
      " 15  SPEEDING_VIOLATIONS  10000 non-null  int64  \n",
      " 16  DUIS                 10000 non-null  int64  \n",
      " 17  PAST_ACCIDENTS       10000 non-null  int64  \n",
      " 18  OUTCOME              10000 non-null  float64\n",
      "dtypes: float64(6), int64(5), object(8)\n",
      "memory usage: 1.4+ MB\n"
     ]
    }
   ],
   "source": [
    "# Checking the data types:\n",
    "\n",
    "df_carins.info()"
   ]
  },
  {
   "cell_type": "markdown",
   "id": "bfff13b4",
   "metadata": {
    "papermill": {
     "duration": 0.016703,
     "end_time": "2024-09-29T13:25:51.668629",
     "exception": false,
     "start_time": "2024-09-29T13:25:51.651926",
     "status": "completed"
    },
    "tags": []
   },
   "source": [
    "There are 10 000 rows (including the column header row) arranged in 19 columns: 6 columns containing 'floats' (decimal values), 5 columns containing 'integers' (whole number values) and 8 columns containing 'objects' (string or word values). Two columns, CREDIT_SCORE and ANNUAL_MILEAGE appear to have some null values as only 9018 rows for the former and 9043 rows for the latter are counted as having non-null values."
   ]
  },
  {
   "cell_type": "code",
   "execution_count": 6,
   "id": "7ad5f19b",
   "metadata": {
    "execution": {
     "iopub.execute_input": "2024-09-29T13:25:51.705214Z",
     "iopub.status.busy": "2024-09-29T13:25:51.704724Z",
     "iopub.status.idle": "2024-09-29T13:25:51.724149Z",
     "shell.execute_reply": "2024-09-29T13:25:51.722878Z"
    },
    "papermill": {
     "duration": 0.041045,
     "end_time": "2024-09-29T13:25:51.726729",
     "exception": false,
     "start_time": "2024-09-29T13:25:51.685684",
     "status": "completed"
    },
    "tags": []
   },
   "outputs": [
    {
     "data": {
      "text/plain": [
       "ID                       0\n",
       "AGE                      0\n",
       "GENDER                   0\n",
       "RACE                     0\n",
       "DRIVING_EXPERIENCE       0\n",
       "EDUCATION                0\n",
       "INCOME                   0\n",
       "CREDIT_SCORE           982\n",
       "VEHICLE_OWNERSHIP        0\n",
       "VEHICLE_YEAR             0\n",
       "MARRIED                  0\n",
       "CHILDREN                 0\n",
       "POSTAL_CODE              0\n",
       "ANNUAL_MILEAGE         957\n",
       "VEHICLE_TYPE             0\n",
       "SPEEDING_VIOLATIONS      0\n",
       "DUIS                     0\n",
       "PAST_ACCIDENTS           0\n",
       "OUTCOME                  0\n",
       "dtype: int64"
      ]
     },
     "execution_count": 6,
     "metadata": {},
     "output_type": "execute_result"
    }
   ],
   "source": [
    "# Checking for null values:\n",
    "\n",
    "df_carins.isnull().sum()"
   ]
  },
  {
   "cell_type": "markdown",
   "id": "999d6be5",
   "metadata": {
    "papermill": {
     "duration": 0.018114,
     "end_time": "2024-09-29T13:25:51.762376",
     "exception": false,
     "start_time": "2024-09-29T13:25:51.744262",
     "status": "completed"
    },
    "tags": []
   },
   "source": [
    "As indicated in the previous section, the two columns, CREDIT_SCORE and ANNUAL_MILAGE, are both missing some information. To determine what percentage the missing information represents I used the folliwng command:"
   ]
  },
  {
   "cell_type": "code",
   "execution_count": 7,
   "id": "0715d2c4",
   "metadata": {
    "execution": {
     "iopub.execute_input": "2024-09-29T13:25:51.799212Z",
     "iopub.status.busy": "2024-09-29T13:25:51.798716Z",
     "iopub.status.idle": "2024-09-29T13:25:51.818483Z",
     "shell.execute_reply": "2024-09-29T13:25:51.817075Z"
    },
    "papermill": {
     "duration": 0.041277,
     "end_time": "2024-09-29T13:25:51.821105",
     "exception": false,
     "start_time": "2024-09-29T13:25:51.779828",
     "status": "completed"
    },
    "tags": []
   },
   "outputs": [
    {
     "name": "stdout",
     "output_type": "stream",
     "text": [
      "ID                     0.00\n",
      "AGE                    0.00\n",
      "GENDER                 0.00\n",
      "RACE                   0.00\n",
      "DRIVING_EXPERIENCE     0.00\n",
      "EDUCATION              0.00\n",
      "INCOME                 0.00\n",
      "CREDIT_SCORE           9.82\n",
      "VEHICLE_OWNERSHIP      0.00\n",
      "VEHICLE_YEAR           0.00\n",
      "MARRIED                0.00\n",
      "CHILDREN               0.00\n",
      "POSTAL_CODE            0.00\n",
      "ANNUAL_MILEAGE         9.57\n",
      "VEHICLE_TYPE           0.00\n",
      "SPEEDING_VIOLATIONS    0.00\n",
      "DUIS                   0.00\n",
      "PAST_ACCIDENTS         0.00\n",
      "OUTCOME                0.00\n",
      "dtype: float64\n"
     ]
    }
   ],
   "source": [
    "# Determining the percentage of the missing data:\n",
    "\n",
    "percent_missing = df_carins.isnull().sum() * 100 / len(df_carins)\n",
    "print(percent_missing)"
   ]
  },
  {
   "cell_type": "markdown",
   "id": "b3a06ac1",
   "metadata": {
    "papermill": {
     "duration": 0.017048,
     "end_time": "2024-09-29T13:25:51.855734",
     "exception": false,
     "start_time": "2024-09-29T13:25:51.838686",
     "status": "completed"
    },
    "tags": []
   },
   "source": [
    "Now I can see that less than 10% of the rows are missing information in these two columns."
   ]
  },
  {
   "cell_type": "code",
   "execution_count": 8,
   "id": "29dcc494",
   "metadata": {
    "execution": {
     "iopub.execute_input": "2024-09-29T13:25:51.893408Z",
     "iopub.status.busy": "2024-09-29T13:25:51.893001Z",
     "iopub.status.idle": "2024-09-29T13:25:51.922870Z",
     "shell.execute_reply": "2024-09-29T13:25:51.921631Z"
    },
    "papermill": {
     "duration": 0.052668,
     "end_time": "2024-09-29T13:25:51.925773",
     "exception": false,
     "start_time": "2024-09-29T13:25:51.873105",
     "status": "completed"
    },
    "tags": []
   },
   "outputs": [
    {
     "name": "stdout",
     "output_type": "stream",
     "text": [
      "          ID    AGE  GENDER      RACE DRIVING_EXPERIENCE    EDUCATION  \\\n",
      "13    569640  16-25  female  majority               0-9y   university   \n",
      "15    906223  26-39  female  majority               0-9y  high school   \n",
      "16    517747    65+    male  majority               30y+   university   \n",
      "17     24851  16-25    male  majority               0-9y         none   \n",
      "18    104086  26-39  female  majority               0-9y   university   \n",
      "...      ...    ...     ...       ...                ...          ...   \n",
      "9977  794068    65+    male  minority               0-9y         none   \n",
      "9981  366048  26-39    male  majority               0-9y  high school   \n",
      "9985  595418  16-25    male  minority               0-9y  high school   \n",
      "9988  479789  26-39    male  majority             10-19y  high school   \n",
      "9996  910346  26-39  female  majority             10-19y         none   \n",
      "\n",
      "             INCOME  CREDIT_SCORE  VEHICLE_OWNERSHIP VEHICLE_YEAR  MARRIED  \\\n",
      "13      upper class      0.591260                1.0  before 2015      0.0   \n",
      "15      upper class      0.762798                0.0   after 2015      1.0   \n",
      "16      upper class      0.796175                1.0  before 2015      1.0   \n",
      "17          poverty           NaN                0.0  before 2015      1.0   \n",
      "18      upper class      0.680594                1.0  before 2015      0.0   \n",
      "...             ...           ...                ...          ...      ...   \n",
      "9977    upper class      0.710640                1.0   after 2015      0.0   \n",
      "9981  working class           NaN                1.0  before 2015      0.0   \n",
      "9985  working class           NaN                1.0  before 2015      0.0   \n",
      "9988        poverty           NaN                0.0  before 2015      0.0   \n",
      "9996   middle class      0.522231                1.0   after 2015      0.0   \n",
      "\n",
      "      CHILDREN  POSTAL_CODE  ANNUAL_MILEAGE VEHICLE_TYPE  SPEEDING_VIOLATIONS  \\\n",
      "13         1.0        10238             NaN        sedan                    0   \n",
      "15         0.0        10238             NaN        sedan                    0   \n",
      "16         1.0        32765             NaN        sedan                   10   \n",
      "17         0.0        32765         12000.0        sedan                    0   \n",
      "18         1.0        32765             NaN        sedan                    0   \n",
      "...        ...          ...             ...          ...                  ...   \n",
      "9977       1.0        32765             NaN        sedan                    0   \n",
      "9981       1.0        10238         11000.0        sedan                    0   \n",
      "9985       1.0        10238         11000.0        sedan                    0   \n",
      "9988       0.0        10238             NaN        sedan                    1   \n",
      "9996       1.0        32765             NaN        sedan                    1   \n",
      "\n",
      "      DUIS  PAST_ACCIDENTS  OUTCOME  \n",
      "13       0               0      0.0  \n",
      "15       0               0      0.0  \n",
      "16       2               1      0.0  \n",
      "17       0               0      1.0  \n",
      "18       0               0      1.0  \n",
      "...    ...             ...      ...  \n",
      "9977     0               0      0.0  \n",
      "9981     0               0      0.0  \n",
      "9985     0               0      0.0  \n",
      "9988     0               2      1.0  \n",
      "9996     0               0      0.0  \n",
      "\n",
      "[1851 rows x 19 columns]\n"
     ]
    }
   ],
   "source": [
    "# Identifying the rows with the missing data:\n",
    "\n",
    "rows_with_missing = df_carins[df_carins.isnull().any(axis=1)]\n",
    "print(rows_with_missing)"
   ]
  },
  {
   "cell_type": "markdown",
   "id": "3298bbb3",
   "metadata": {
    "papermill": {
     "duration": 0.017462,
     "end_time": "2024-09-29T13:25:51.961944",
     "exception": false,
     "start_time": "2024-09-29T13:25:51.944482",
     "status": "completed"
    },
    "tags": []
   },
   "source": [
    "Looking at the data above, I can see that some rows between 13 and 18, and between 9977 and 9996 contain the missing information. Besides the two columns already noted, one other column, EDUCATION, is returning 'none' as a value. Now this could be intentional, in that the customer is saying they did not have an education, so I'm going to leave this in the data. For both CREDIT_SCORE and ANNUAL_MILEAGE, as they are considered risk factors in car insurance, I will leave the columns in but remove the rows with the missing information."
   ]
  },
  {
   "cell_type": "markdown",
   "id": "5a4c18c1",
   "metadata": {
    "papermill": {
     "duration": 0.017577,
     "end_time": "2024-09-29T13:25:51.997299",
     "exception": false,
     "start_time": "2024-09-29T13:25:51.979722",
     "status": "completed"
    },
    "tags": []
   },
   "source": [
    "## **CLEANING THE DATA**\n",
    "\n",
    "### **Step 4 - Handling the Missing Data**"
   ]
  },
  {
   "cell_type": "code",
   "execution_count": 9,
   "id": "28e1aa07",
   "metadata": {
    "execution": {
     "iopub.execute_input": "2024-09-29T13:25:52.035453Z",
     "iopub.status.busy": "2024-09-29T13:25:52.035029Z",
     "iopub.status.idle": "2024-09-29T13:25:52.064703Z",
     "shell.execute_reply": "2024-09-29T13:25:52.063387Z"
    },
    "papermill": {
     "duration": 0.05326,
     "end_time": "2024-09-29T13:25:52.068197",
     "exception": false,
     "start_time": "2024-09-29T13:25:52.014937",
     "status": "completed"
    },
    "tags": []
   },
   "outputs": [
    {
     "name": "stdout",
     "output_type": "stream",
     "text": [
      "          ID    AGE  GENDER      RACE DRIVING_EXPERIENCE    EDUCATION  \\\n",
      "0     569520    65+  female  majority               0-9y  high school   \n",
      "1     750365  16-25    male  majority               0-9y         none   \n",
      "2     199901  16-25  female  majority               0-9y  high school   \n",
      "3     478866  16-25    male  majority               0-9y   university   \n",
      "4     731664  26-39    male  majority             10-19y         none   \n",
      "...      ...    ...     ...       ...                ...          ...   \n",
      "9994  752887  26-39    male  majority             10-19y  high school   \n",
      "9995  323164  26-39  female  majority             10-19y   university   \n",
      "9997  468409  26-39    male  majority               0-9y  high school   \n",
      "9998  903459  26-39  female  majority             10-19y  high school   \n",
      "9999  442696  26-39  female  majority               0-9y         none   \n",
      "\n",
      "             INCOME  CREDIT_SCORE  VEHICLE_OWNERSHIP VEHICLE_YEAR  MARRIED  \\\n",
      "0       upper class      0.629027                1.0   after 2015      0.0   \n",
      "1           poverty      0.357757                0.0  before 2015      0.0   \n",
      "2     working class      0.493146                1.0  before 2015      0.0   \n",
      "3     working class      0.206013                1.0  before 2015      0.0   \n",
      "4     working class      0.388366                1.0  before 2015      0.0   \n",
      "...             ...           ...                ...          ...      ...   \n",
      "9994   middle class      0.454300                1.0  before 2015      0.0   \n",
      "9995    upper class      0.582787                1.0  before 2015      0.0   \n",
      "9997   middle class      0.470940                1.0  before 2015      0.0   \n",
      "9998        poverty      0.364185                0.0  before 2015      0.0   \n",
      "9999  working class      0.435225                1.0  before 2015      1.0   \n",
      "\n",
      "      CHILDREN  POSTAL_CODE  ANNUAL_MILEAGE VEHICLE_TYPE  SPEEDING_VIOLATIONS  \\\n",
      "0          1.0        10238         12000.0        sedan                    0   \n",
      "1          0.0        10238         16000.0        sedan                    0   \n",
      "2          0.0        10238         11000.0        sedan                    0   \n",
      "3          1.0        32765         11000.0        sedan                    0   \n",
      "4          0.0        32765         12000.0        sedan                    2   \n",
      "...        ...          ...             ...          ...                  ...   \n",
      "9994       0.0        10238         16000.0        sedan                    1   \n",
      "9995       0.0        10238         16000.0        sedan                    0   \n",
      "9997       1.0        10238         14000.0        sedan                    0   \n",
      "9998       1.0        10238         13000.0        sedan                    2   \n",
      "9999       1.0        10238         13000.0        sedan                    0   \n",
      "\n",
      "      DUIS  PAST_ACCIDENTS  OUTCOME  \n",
      "0        0               0      0.0  \n",
      "1        0               0      1.0  \n",
      "2        0               0      0.0  \n",
      "3        0               0      0.0  \n",
      "4        0               1      1.0  \n",
      "...    ...             ...      ...  \n",
      "9994     0               2      0.0  \n",
      "9995     0               1      0.0  \n",
      "9997     0               0      0.0  \n",
      "9998     0               1      1.0  \n",
      "9999     0               0      0.0  \n",
      "\n",
      "[8149 rows x 19 columns]\n"
     ]
    }
   ],
   "source": [
    "# Removing the rows with the missing values:\n",
    "\n",
    "df_cleaned = df_carins.dropna()\n",
    "print(df_cleaned)"
   ]
  },
  {
   "cell_type": "code",
   "execution_count": 10,
   "id": "41cbb8b3",
   "metadata": {
    "execution": {
     "iopub.execute_input": "2024-09-29T13:25:52.106653Z",
     "iopub.status.busy": "2024-09-29T13:25:52.105752Z",
     "iopub.status.idle": "2024-09-29T13:25:52.145872Z",
     "shell.execute_reply": "2024-09-29T13:25:52.144548Z"
    },
    "papermill": {
     "duration": 0.062206,
     "end_time": "2024-09-29T13:25:52.148658",
     "exception": false,
     "start_time": "2024-09-29T13:25:52.086452",
     "status": "completed"
    },
    "tags": []
   },
   "outputs": [
    {
     "data": {
      "text/html": [
       "<div>\n",
       "<style scoped>\n",
       "    .dataframe tbody tr th:only-of-type {\n",
       "        vertical-align: middle;\n",
       "    }\n",
       "\n",
       "    .dataframe tbody tr th {\n",
       "        vertical-align: top;\n",
       "    }\n",
       "\n",
       "    .dataframe thead th {\n",
       "        text-align: right;\n",
       "    }\n",
       "</style>\n",
       "<table border=\"1\" class=\"dataframe\">\n",
       "  <thead>\n",
       "    <tr style=\"text-align: right;\">\n",
       "      <th></th>\n",
       "      <th>ID</th>\n",
       "      <th>AGE</th>\n",
       "      <th>GENDER</th>\n",
       "      <th>RACE</th>\n",
       "      <th>DRIVING_EXPERIENCE</th>\n",
       "      <th>EDUCATION</th>\n",
       "      <th>INCOME</th>\n",
       "      <th>CREDIT_SCORE</th>\n",
       "      <th>VEHICLE_OWNERSHIP</th>\n",
       "      <th>VEHICLE_YEAR</th>\n",
       "      <th>MARRIED</th>\n",
       "      <th>CHILDREN</th>\n",
       "      <th>POSTAL_CODE</th>\n",
       "      <th>ANNUAL_MILEAGE</th>\n",
       "      <th>VEHICLE_TYPE</th>\n",
       "      <th>SPEEDING_VIOLATIONS</th>\n",
       "      <th>DUIS</th>\n",
       "      <th>PAST_ACCIDENTS</th>\n",
       "      <th>OUTCOME</th>\n",
       "    </tr>\n",
       "  </thead>\n",
       "  <tbody>\n",
       "    <tr>\n",
       "      <th>0</th>\n",
       "      <td>569520</td>\n",
       "      <td>65+</td>\n",
       "      <td>female</td>\n",
       "      <td>majority</td>\n",
       "      <td>0-9y</td>\n",
       "      <td>high school</td>\n",
       "      <td>upper class</td>\n",
       "      <td>0.629027</td>\n",
       "      <td>1.0</td>\n",
       "      <td>after 2015</td>\n",
       "      <td>0.0</td>\n",
       "      <td>1.0</td>\n",
       "      <td>10238</td>\n",
       "      <td>12000.0</td>\n",
       "      <td>sedan</td>\n",
       "      <td>0</td>\n",
       "      <td>0</td>\n",
       "      <td>0</td>\n",
       "      <td>0.0</td>\n",
       "    </tr>\n",
       "    <tr>\n",
       "      <th>1</th>\n",
       "      <td>750365</td>\n",
       "      <td>16-25</td>\n",
       "      <td>male</td>\n",
       "      <td>majority</td>\n",
       "      <td>0-9y</td>\n",
       "      <td>none</td>\n",
       "      <td>poverty</td>\n",
       "      <td>0.357757</td>\n",
       "      <td>0.0</td>\n",
       "      <td>before 2015</td>\n",
       "      <td>0.0</td>\n",
       "      <td>0.0</td>\n",
       "      <td>10238</td>\n",
       "      <td>16000.0</td>\n",
       "      <td>sedan</td>\n",
       "      <td>0</td>\n",
       "      <td>0</td>\n",
       "      <td>0</td>\n",
       "      <td>1.0</td>\n",
       "    </tr>\n",
       "    <tr>\n",
       "      <th>2</th>\n",
       "      <td>199901</td>\n",
       "      <td>16-25</td>\n",
       "      <td>female</td>\n",
       "      <td>majority</td>\n",
       "      <td>0-9y</td>\n",
       "      <td>high school</td>\n",
       "      <td>working class</td>\n",
       "      <td>0.493146</td>\n",
       "      <td>1.0</td>\n",
       "      <td>before 2015</td>\n",
       "      <td>0.0</td>\n",
       "      <td>0.0</td>\n",
       "      <td>10238</td>\n",
       "      <td>11000.0</td>\n",
       "      <td>sedan</td>\n",
       "      <td>0</td>\n",
       "      <td>0</td>\n",
       "      <td>0</td>\n",
       "      <td>0.0</td>\n",
       "    </tr>\n",
       "    <tr>\n",
       "      <th>3</th>\n",
       "      <td>478866</td>\n",
       "      <td>16-25</td>\n",
       "      <td>male</td>\n",
       "      <td>majority</td>\n",
       "      <td>0-9y</td>\n",
       "      <td>university</td>\n",
       "      <td>working class</td>\n",
       "      <td>0.206013</td>\n",
       "      <td>1.0</td>\n",
       "      <td>before 2015</td>\n",
       "      <td>0.0</td>\n",
       "      <td>1.0</td>\n",
       "      <td>32765</td>\n",
       "      <td>11000.0</td>\n",
       "      <td>sedan</td>\n",
       "      <td>0</td>\n",
       "      <td>0</td>\n",
       "      <td>0</td>\n",
       "      <td>0.0</td>\n",
       "    </tr>\n",
       "    <tr>\n",
       "      <th>4</th>\n",
       "      <td>731664</td>\n",
       "      <td>26-39</td>\n",
       "      <td>male</td>\n",
       "      <td>majority</td>\n",
       "      <td>10-19y</td>\n",
       "      <td>none</td>\n",
       "      <td>working class</td>\n",
       "      <td>0.388366</td>\n",
       "      <td>1.0</td>\n",
       "      <td>before 2015</td>\n",
       "      <td>0.0</td>\n",
       "      <td>0.0</td>\n",
       "      <td>32765</td>\n",
       "      <td>12000.0</td>\n",
       "      <td>sedan</td>\n",
       "      <td>2</td>\n",
       "      <td>0</td>\n",
       "      <td>1</td>\n",
       "      <td>1.0</td>\n",
       "    </tr>\n",
       "    <tr>\n",
       "      <th>5</th>\n",
       "      <td>877557</td>\n",
       "      <td>40-64</td>\n",
       "      <td>female</td>\n",
       "      <td>majority</td>\n",
       "      <td>20-29y</td>\n",
       "      <td>high school</td>\n",
       "      <td>upper class</td>\n",
       "      <td>0.619127</td>\n",
       "      <td>1.0</td>\n",
       "      <td>after 2015</td>\n",
       "      <td>0.0</td>\n",
       "      <td>1.0</td>\n",
       "      <td>10238</td>\n",
       "      <td>13000.0</td>\n",
       "      <td>sedan</td>\n",
       "      <td>3</td>\n",
       "      <td>0</td>\n",
       "      <td>3</td>\n",
       "      <td>0.0</td>\n",
       "    </tr>\n",
       "    <tr>\n",
       "      <th>6</th>\n",
       "      <td>930134</td>\n",
       "      <td>65+</td>\n",
       "      <td>male</td>\n",
       "      <td>majority</td>\n",
       "      <td>30y+</td>\n",
       "      <td>high school</td>\n",
       "      <td>upper class</td>\n",
       "      <td>0.492944</td>\n",
       "      <td>0.0</td>\n",
       "      <td>after 2015</td>\n",
       "      <td>1.0</td>\n",
       "      <td>1.0</td>\n",
       "      <td>10238</td>\n",
       "      <td>13000.0</td>\n",
       "      <td>sedan</td>\n",
       "      <td>7</td>\n",
       "      <td>0</td>\n",
       "      <td>3</td>\n",
       "      <td>0.0</td>\n",
       "    </tr>\n",
       "    <tr>\n",
       "      <th>7</th>\n",
       "      <td>461006</td>\n",
       "      <td>26-39</td>\n",
       "      <td>female</td>\n",
       "      <td>majority</td>\n",
       "      <td>0-9y</td>\n",
       "      <td>university</td>\n",
       "      <td>working class</td>\n",
       "      <td>0.468689</td>\n",
       "      <td>0.0</td>\n",
       "      <td>after 2015</td>\n",
       "      <td>0.0</td>\n",
       "      <td>1.0</td>\n",
       "      <td>10238</td>\n",
       "      <td>14000.0</td>\n",
       "      <td>sedan</td>\n",
       "      <td>0</td>\n",
       "      <td>0</td>\n",
       "      <td>0</td>\n",
       "      <td>1.0</td>\n",
       "    </tr>\n",
       "    <tr>\n",
       "      <th>8</th>\n",
       "      <td>68366</td>\n",
       "      <td>40-64</td>\n",
       "      <td>female</td>\n",
       "      <td>majority</td>\n",
       "      <td>20-29y</td>\n",
       "      <td>university</td>\n",
       "      <td>working class</td>\n",
       "      <td>0.521815</td>\n",
       "      <td>0.0</td>\n",
       "      <td>before 2015</td>\n",
       "      <td>1.0</td>\n",
       "      <td>0.0</td>\n",
       "      <td>10238</td>\n",
       "      <td>13000.0</td>\n",
       "      <td>sedan</td>\n",
       "      <td>0</td>\n",
       "      <td>0</td>\n",
       "      <td>0</td>\n",
       "      <td>0.0</td>\n",
       "    </tr>\n",
       "    <tr>\n",
       "      <th>9</th>\n",
       "      <td>445911</td>\n",
       "      <td>40-64</td>\n",
       "      <td>female</td>\n",
       "      <td>majority</td>\n",
       "      <td>0-9y</td>\n",
       "      <td>high school</td>\n",
       "      <td>upper class</td>\n",
       "      <td>0.561531</td>\n",
       "      <td>1.0</td>\n",
       "      <td>before 2015</td>\n",
       "      <td>0.0</td>\n",
       "      <td>1.0</td>\n",
       "      <td>32765</td>\n",
       "      <td>11000.0</td>\n",
       "      <td>sedan</td>\n",
       "      <td>0</td>\n",
       "      <td>0</td>\n",
       "      <td>0</td>\n",
       "      <td>1.0</td>\n",
       "    </tr>\n",
       "    <tr>\n",
       "      <th>10</th>\n",
       "      <td>275820</td>\n",
       "      <td>65+</td>\n",
       "      <td>male</td>\n",
       "      <td>majority</td>\n",
       "      <td>30y+</td>\n",
       "      <td>high school</td>\n",
       "      <td>upper class</td>\n",
       "      <td>0.620361</td>\n",
       "      <td>1.0</td>\n",
       "      <td>after 2015</td>\n",
       "      <td>1.0</td>\n",
       "      <td>1.0</td>\n",
       "      <td>10238</td>\n",
       "      <td>10000.0</td>\n",
       "      <td>sedan</td>\n",
       "      <td>6</td>\n",
       "      <td>2</td>\n",
       "      <td>7</td>\n",
       "      <td>0.0</td>\n",
       "    </tr>\n",
       "    <tr>\n",
       "      <th>11</th>\n",
       "      <td>521399</td>\n",
       "      <td>65+</td>\n",
       "      <td>female</td>\n",
       "      <td>majority</td>\n",
       "      <td>30y+</td>\n",
       "      <td>high school</td>\n",
       "      <td>upper class</td>\n",
       "      <td>0.729831</td>\n",
       "      <td>1.0</td>\n",
       "      <td>after 2015</td>\n",
       "      <td>1.0</td>\n",
       "      <td>0.0</td>\n",
       "      <td>32765</td>\n",
       "      <td>12000.0</td>\n",
       "      <td>sedan</td>\n",
       "      <td>4</td>\n",
       "      <td>0</td>\n",
       "      <td>0</td>\n",
       "      <td>0.0</td>\n",
       "    </tr>\n",
       "    <tr>\n",
       "      <th>12</th>\n",
       "      <td>429728</td>\n",
       "      <td>40-64</td>\n",
       "      <td>male</td>\n",
       "      <td>majority</td>\n",
       "      <td>20-29y</td>\n",
       "      <td>high school</td>\n",
       "      <td>upper class</td>\n",
       "      <td>0.637045</td>\n",
       "      <td>1.0</td>\n",
       "      <td>before 2015</td>\n",
       "      <td>1.0</td>\n",
       "      <td>1.0</td>\n",
       "      <td>10238</td>\n",
       "      <td>8000.0</td>\n",
       "      <td>sedan</td>\n",
       "      <td>4</td>\n",
       "      <td>1</td>\n",
       "      <td>2</td>\n",
       "      <td>0.0</td>\n",
       "    </tr>\n",
       "    <tr>\n",
       "      <th>14</th>\n",
       "      <td>980181</td>\n",
       "      <td>26-39</td>\n",
       "      <td>male</td>\n",
       "      <td>majority</td>\n",
       "      <td>10-19y</td>\n",
       "      <td>high school</td>\n",
       "      <td>middle class</td>\n",
       "      <td>0.461568</td>\n",
       "      <td>1.0</td>\n",
       "      <td>before 2015</td>\n",
       "      <td>1.0</td>\n",
       "      <td>1.0</td>\n",
       "      <td>10238</td>\n",
       "      <td>12000.0</td>\n",
       "      <td>sedan</td>\n",
       "      <td>0</td>\n",
       "      <td>2</td>\n",
       "      <td>1</td>\n",
       "      <td>0.0</td>\n",
       "    </tr>\n",
       "    <tr>\n",
       "      <th>19</th>\n",
       "      <td>240658</td>\n",
       "      <td>16-25</td>\n",
       "      <td>female</td>\n",
       "      <td>majority</td>\n",
       "      <td>0-9y</td>\n",
       "      <td>high school</td>\n",
       "      <td>working class</td>\n",
       "      <td>0.417714</td>\n",
       "      <td>1.0</td>\n",
       "      <td>before 2015</td>\n",
       "      <td>0.0</td>\n",
       "      <td>1.0</td>\n",
       "      <td>10238</td>\n",
       "      <td>18000.0</td>\n",
       "      <td>sedan</td>\n",
       "      <td>0</td>\n",
       "      <td>0</td>\n",
       "      <td>0</td>\n",
       "      <td>1.0</td>\n",
       "    </tr>\n",
       "    <tr>\n",
       "      <th>20</th>\n",
       "      <td>484399</td>\n",
       "      <td>16-25</td>\n",
       "      <td>female</td>\n",
       "      <td>majority</td>\n",
       "      <td>0-9y</td>\n",
       "      <td>high school</td>\n",
       "      <td>working class</td>\n",
       "      <td>0.409514</td>\n",
       "      <td>0.0</td>\n",
       "      <td>before 2015</td>\n",
       "      <td>0.0</td>\n",
       "      <td>0.0</td>\n",
       "      <td>10238</td>\n",
       "      <td>17000.0</td>\n",
       "      <td>sedan</td>\n",
       "      <td>0</td>\n",
       "      <td>0</td>\n",
       "      <td>0</td>\n",
       "      <td>1.0</td>\n",
       "    </tr>\n",
       "    <tr>\n",
       "      <th>21</th>\n",
       "      <td>912828</td>\n",
       "      <td>16-25</td>\n",
       "      <td>male</td>\n",
       "      <td>majority</td>\n",
       "      <td>0-9y</td>\n",
       "      <td>high school</td>\n",
       "      <td>middle class</td>\n",
       "      <td>0.553260</td>\n",
       "      <td>1.0</td>\n",
       "      <td>after 2015</td>\n",
       "      <td>1.0</td>\n",
       "      <td>1.0</td>\n",
       "      <td>32765</td>\n",
       "      <td>8000.0</td>\n",
       "      <td>sedan</td>\n",
       "      <td>0</td>\n",
       "      <td>0</td>\n",
       "      <td>0</td>\n",
       "      <td>1.0</td>\n",
       "    </tr>\n",
       "    <tr>\n",
       "      <th>22</th>\n",
       "      <td>892754</td>\n",
       "      <td>40-64</td>\n",
       "      <td>male</td>\n",
       "      <td>majority</td>\n",
       "      <td>20-29y</td>\n",
       "      <td>none</td>\n",
       "      <td>poverty</td>\n",
       "      <td>0.330950</td>\n",
       "      <td>1.0</td>\n",
       "      <td>before 2015</td>\n",
       "      <td>1.0</td>\n",
       "      <td>1.0</td>\n",
       "      <td>10238</td>\n",
       "      <td>13000.0</td>\n",
       "      <td>sedan</td>\n",
       "      <td>3</td>\n",
       "      <td>1</td>\n",
       "      <td>1</td>\n",
       "      <td>0.0</td>\n",
       "    </tr>\n",
       "    <tr>\n",
       "      <th>24</th>\n",
       "      <td>633896</td>\n",
       "      <td>65+</td>\n",
       "      <td>male</td>\n",
       "      <td>majority</td>\n",
       "      <td>30y+</td>\n",
       "      <td>high school</td>\n",
       "      <td>upper class</td>\n",
       "      <td>0.500631</td>\n",
       "      <td>1.0</td>\n",
       "      <td>before 2015</td>\n",
       "      <td>1.0</td>\n",
       "      <td>1.0</td>\n",
       "      <td>32765</td>\n",
       "      <td>7000.0</td>\n",
       "      <td>sedan</td>\n",
       "      <td>13</td>\n",
       "      <td>2</td>\n",
       "      <td>3</td>\n",
       "      <td>0.0</td>\n",
       "    </tr>\n",
       "    <tr>\n",
       "      <th>25</th>\n",
       "      <td>193110</td>\n",
       "      <td>26-39</td>\n",
       "      <td>female</td>\n",
       "      <td>majority</td>\n",
       "      <td>10-19y</td>\n",
       "      <td>university</td>\n",
       "      <td>middle class</td>\n",
       "      <td>0.551970</td>\n",
       "      <td>1.0</td>\n",
       "      <td>before 2015</td>\n",
       "      <td>1.0</td>\n",
       "      <td>0.0</td>\n",
       "      <td>10238</td>\n",
       "      <td>14000.0</td>\n",
       "      <td>sports car</td>\n",
       "      <td>0</td>\n",
       "      <td>0</td>\n",
       "      <td>0</td>\n",
       "      <td>0.0</td>\n",
       "    </tr>\n",
       "  </tbody>\n",
       "</table>\n",
       "</div>"
      ],
      "text/plain": [
       "        ID    AGE  GENDER      RACE DRIVING_EXPERIENCE    EDUCATION  \\\n",
       "0   569520    65+  female  majority               0-9y  high school   \n",
       "1   750365  16-25    male  majority               0-9y         none   \n",
       "2   199901  16-25  female  majority               0-9y  high school   \n",
       "3   478866  16-25    male  majority               0-9y   university   \n",
       "4   731664  26-39    male  majority             10-19y         none   \n",
       "5   877557  40-64  female  majority             20-29y  high school   \n",
       "6   930134    65+    male  majority               30y+  high school   \n",
       "7   461006  26-39  female  majority               0-9y   university   \n",
       "8    68366  40-64  female  majority             20-29y   university   \n",
       "9   445911  40-64  female  majority               0-9y  high school   \n",
       "10  275820    65+    male  majority               30y+  high school   \n",
       "11  521399    65+  female  majority               30y+  high school   \n",
       "12  429728  40-64    male  majority             20-29y  high school   \n",
       "14  980181  26-39    male  majority             10-19y  high school   \n",
       "19  240658  16-25  female  majority               0-9y  high school   \n",
       "20  484399  16-25  female  majority               0-9y  high school   \n",
       "21  912828  16-25    male  majority               0-9y  high school   \n",
       "22  892754  40-64    male  majority             20-29y         none   \n",
       "24  633896    65+    male  majority               30y+  high school   \n",
       "25  193110  26-39  female  majority             10-19y   university   \n",
       "\n",
       "           INCOME  CREDIT_SCORE  VEHICLE_OWNERSHIP VEHICLE_YEAR  MARRIED  \\\n",
       "0     upper class      0.629027                1.0   after 2015      0.0   \n",
       "1         poverty      0.357757                0.0  before 2015      0.0   \n",
       "2   working class      0.493146                1.0  before 2015      0.0   \n",
       "3   working class      0.206013                1.0  before 2015      0.0   \n",
       "4   working class      0.388366                1.0  before 2015      0.0   \n",
       "5     upper class      0.619127                1.0   after 2015      0.0   \n",
       "6     upper class      0.492944                0.0   after 2015      1.0   \n",
       "7   working class      0.468689                0.0   after 2015      0.0   \n",
       "8   working class      0.521815                0.0  before 2015      1.0   \n",
       "9     upper class      0.561531                1.0  before 2015      0.0   \n",
       "10    upper class      0.620361                1.0   after 2015      1.0   \n",
       "11    upper class      0.729831                1.0   after 2015      1.0   \n",
       "12    upper class      0.637045                1.0  before 2015      1.0   \n",
       "14   middle class      0.461568                1.0  before 2015      1.0   \n",
       "19  working class      0.417714                1.0  before 2015      0.0   \n",
       "20  working class      0.409514                0.0  before 2015      0.0   \n",
       "21   middle class      0.553260                1.0   after 2015      1.0   \n",
       "22        poverty      0.330950                1.0  before 2015      1.0   \n",
       "24    upper class      0.500631                1.0  before 2015      1.0   \n",
       "25   middle class      0.551970                1.0  before 2015      1.0   \n",
       "\n",
       "    CHILDREN  POSTAL_CODE  ANNUAL_MILEAGE VEHICLE_TYPE  SPEEDING_VIOLATIONS  \\\n",
       "0        1.0        10238         12000.0        sedan                    0   \n",
       "1        0.0        10238         16000.0        sedan                    0   \n",
       "2        0.0        10238         11000.0        sedan                    0   \n",
       "3        1.0        32765         11000.0        sedan                    0   \n",
       "4        0.0        32765         12000.0        sedan                    2   \n",
       "5        1.0        10238         13000.0        sedan                    3   \n",
       "6        1.0        10238         13000.0        sedan                    7   \n",
       "7        1.0        10238         14000.0        sedan                    0   \n",
       "8        0.0        10238         13000.0        sedan                    0   \n",
       "9        1.0        32765         11000.0        sedan                    0   \n",
       "10       1.0        10238         10000.0        sedan                    6   \n",
       "11       0.0        32765         12000.0        sedan                    4   \n",
       "12       1.0        10238          8000.0        sedan                    4   \n",
       "14       1.0        10238         12000.0        sedan                    0   \n",
       "19       1.0        10238         18000.0        sedan                    0   \n",
       "20       0.0        10238         17000.0        sedan                    0   \n",
       "21       1.0        32765          8000.0        sedan                    0   \n",
       "22       1.0        10238         13000.0        sedan                    3   \n",
       "24       1.0        32765          7000.0        sedan                   13   \n",
       "25       0.0        10238         14000.0   sports car                    0   \n",
       "\n",
       "    DUIS  PAST_ACCIDENTS  OUTCOME  \n",
       "0      0               0      0.0  \n",
       "1      0               0      1.0  \n",
       "2      0               0      0.0  \n",
       "3      0               0      0.0  \n",
       "4      0               1      1.0  \n",
       "5      0               3      0.0  \n",
       "6      0               3      0.0  \n",
       "7      0               0      1.0  \n",
       "8      0               0      0.0  \n",
       "9      0               0      1.0  \n",
       "10     2               7      0.0  \n",
       "11     0               0      0.0  \n",
       "12     1               2      0.0  \n",
       "14     2               1      0.0  \n",
       "19     0               0      1.0  \n",
       "20     0               0      1.0  \n",
       "21     0               0      1.0  \n",
       "22     1               1      0.0  \n",
       "24     2               3      0.0  \n",
       "25     0               0      0.0  "
      ]
     },
     "execution_count": 10,
     "metadata": {},
     "output_type": "execute_result"
    }
   ],
   "source": [
    "df_cleaned.head(20)"
   ]
  },
  {
   "cell_type": "markdown",
   "id": "85ff9a51",
   "metadata": {
    "papermill": {
     "duration": 0.019235,
     "end_time": "2024-09-29T13:25:52.186972",
     "exception": false,
     "start_time": "2024-09-29T13:25:52.167737",
     "status": "completed"
    },
    "tags": []
   },
   "source": [
    "Now I can see that rows 13 and 15-18 have all been removed from the dataset. Without looking at the other end of the table, I know that the rows with missing informaiton will have also been removed throughout the dataset."
   ]
  },
  {
   "cell_type": "code",
   "execution_count": 11,
   "id": "9214da1a",
   "metadata": {
    "execution": {
     "iopub.execute_input": "2024-09-29T13:25:52.229716Z",
     "iopub.status.busy": "2024-09-29T13:25:52.228531Z",
     "iopub.status.idle": "2024-09-29T13:25:52.246506Z",
     "shell.execute_reply": "2024-09-29T13:25:52.245227Z"
    },
    "papermill": {
     "duration": 0.043446,
     "end_time": "2024-09-29T13:25:52.249595",
     "exception": false,
     "start_time": "2024-09-29T13:25:52.206149",
     "status": "completed"
    },
    "tags": []
   },
   "outputs": [
    {
     "data": {
      "text/plain": [
       "ID                     0\n",
       "AGE                    0\n",
       "GENDER                 0\n",
       "RACE                   0\n",
       "DRIVING_EXPERIENCE     0\n",
       "EDUCATION              0\n",
       "INCOME                 0\n",
       "CREDIT_SCORE           0\n",
       "VEHICLE_OWNERSHIP      0\n",
       "VEHICLE_YEAR           0\n",
       "MARRIED                0\n",
       "CHILDREN               0\n",
       "POSTAL_CODE            0\n",
       "ANNUAL_MILEAGE         0\n",
       "VEHICLE_TYPE           0\n",
       "SPEEDING_VIOLATIONS    0\n",
       "DUIS                   0\n",
       "PAST_ACCIDENTS         0\n",
       "OUTCOME                0\n",
       "dtype: int64"
      ]
     },
     "execution_count": 11,
     "metadata": {},
     "output_type": "execute_result"
    }
   ],
   "source": [
    "# Checking again for null values:\n",
    "\n",
    "df_cleaned.isnull().sum()"
   ]
  },
  {
   "cell_type": "code",
   "execution_count": 12,
   "id": "e87750ad",
   "metadata": {
    "execution": {
     "iopub.execute_input": "2024-09-29T13:25:52.289675Z",
     "iopub.status.busy": "2024-09-29T13:25:52.289239Z",
     "iopub.status.idle": "2024-09-29T13:25:52.311667Z",
     "shell.execute_reply": "2024-09-29T13:25:52.310561Z"
    },
    "papermill": {
     "duration": 0.046007,
     "end_time": "2024-09-29T13:25:52.314762",
     "exception": false,
     "start_time": "2024-09-29T13:25:52.268755",
     "status": "completed"
    },
    "tags": []
   },
   "outputs": [
    {
     "name": "stdout",
     "output_type": "stream",
     "text": [
      "<class 'pandas.core.frame.DataFrame'>\n",
      "Index: 8149 entries, 0 to 9999\n",
      "Data columns (total 19 columns):\n",
      " #   Column               Non-Null Count  Dtype  \n",
      "---  ------               --------------  -----  \n",
      " 0   ID                   8149 non-null   int64  \n",
      " 1   AGE                  8149 non-null   object \n",
      " 2   GENDER               8149 non-null   object \n",
      " 3   RACE                 8149 non-null   object \n",
      " 4   DRIVING_EXPERIENCE   8149 non-null   object \n",
      " 5   EDUCATION            8149 non-null   object \n",
      " 6   INCOME               8149 non-null   object \n",
      " 7   CREDIT_SCORE         8149 non-null   float64\n",
      " 8   VEHICLE_OWNERSHIP    8149 non-null   float64\n",
      " 9   VEHICLE_YEAR         8149 non-null   object \n",
      " 10  MARRIED              8149 non-null   float64\n",
      " 11  CHILDREN             8149 non-null   float64\n",
      " 12  POSTAL_CODE          8149 non-null   int64  \n",
      " 13  ANNUAL_MILEAGE       8149 non-null   float64\n",
      " 14  VEHICLE_TYPE         8149 non-null   object \n",
      " 15  SPEEDING_VIOLATIONS  8149 non-null   int64  \n",
      " 16  DUIS                 8149 non-null   int64  \n",
      " 17  PAST_ACCIDENTS       8149 non-null   int64  \n",
      " 18  OUTCOME              8149 non-null   float64\n",
      "dtypes: float64(6), int64(5), object(8)\n",
      "memory usage: 1.2+ MB\n"
     ]
    }
   ],
   "source": [
    "# Checking the info for the cleaned dataset:\n",
    "\n",
    "df_cleaned.info()"
   ]
  },
  {
   "cell_type": "markdown",
   "id": "2c2b0830",
   "metadata": {
    "papermill": {
     "duration": 0.019408,
     "end_time": "2024-09-29T13:25:52.353875",
     "exception": false,
     "start_time": "2024-09-29T13:25:52.334467",
     "status": "completed"
    },
    "tags": []
   },
   "source": [
    "Out of 10,000 rows from the original dataset, I removed 1851 rows. I now have 8149 rows I can work with. \n",
    "\n",
    "Looking back up at the cleaned dataset, I noticed that a few columns contained values that made no sense. In the CHILDREN column the values are decimals or floats. One cannot have 'point something' of a child, only a whole child, therefore the values should be integers or whole numbers. Likewise for the MARRIED column, one is not 'point something' married, they are either married or they are not, therefore this column should contain boolean values of either Yes/No or True/False. Finally, the OUTCOME column represents whether or not a claim was made, therefore the values should also be boolean. I therefore amended this as follows, and also changed the OUTCOME column name to CLAIMS to make better sense."
   ]
  },
  {
   "cell_type": "code",
   "execution_count": 13,
   "id": "dafb31fb",
   "metadata": {
    "execution": {
     "iopub.execute_input": "2024-09-29T13:25:52.394515Z",
     "iopub.status.busy": "2024-09-29T13:25:52.394042Z",
     "iopub.status.idle": "2024-09-29T13:25:52.426189Z",
     "shell.execute_reply": "2024-09-29T13:25:52.424889Z"
    },
    "papermill": {
     "duration": 0.056104,
     "end_time": "2024-09-29T13:25:52.429057",
     "exception": false,
     "start_time": "2024-09-29T13:25:52.372953",
     "status": "completed"
    },
    "tags": []
   },
   "outputs": [
    {
     "data": {
      "text/html": [
       "<div>\n",
       "<style scoped>\n",
       "    .dataframe tbody tr th:only-of-type {\n",
       "        vertical-align: middle;\n",
       "    }\n",
       "\n",
       "    .dataframe tbody tr th {\n",
       "        vertical-align: top;\n",
       "    }\n",
       "\n",
       "    .dataframe thead th {\n",
       "        text-align: right;\n",
       "    }\n",
       "</style>\n",
       "<table border=\"1\" class=\"dataframe\">\n",
       "  <thead>\n",
       "    <tr style=\"text-align: right;\">\n",
       "      <th></th>\n",
       "      <th>ID</th>\n",
       "      <th>AGE</th>\n",
       "      <th>GENDER</th>\n",
       "      <th>RACE</th>\n",
       "      <th>DRIVING_EXPERIENCE</th>\n",
       "      <th>EDUCATION</th>\n",
       "      <th>INCOME</th>\n",
       "      <th>CREDIT_SCORE</th>\n",
       "      <th>VEHICLE_OWNERSHIP</th>\n",
       "      <th>VEHICLE_YEAR</th>\n",
       "      <th>MARRIED</th>\n",
       "      <th>CHILDREN</th>\n",
       "      <th>POSTAL_CODE</th>\n",
       "      <th>ANNUAL_MILEAGE</th>\n",
       "      <th>VEHICLE_TYPE</th>\n",
       "      <th>SPEEDING_VIOLATIONS</th>\n",
       "      <th>DUIS</th>\n",
       "      <th>PAST_ACCIDENTS</th>\n",
       "      <th>CLAIMS</th>\n",
       "    </tr>\n",
       "  </thead>\n",
       "  <tbody>\n",
       "    <tr>\n",
       "      <th>0</th>\n",
       "      <td>569520</td>\n",
       "      <td>65+</td>\n",
       "      <td>female</td>\n",
       "      <td>majority</td>\n",
       "      <td>0-9y</td>\n",
       "      <td>high school</td>\n",
       "      <td>upper class</td>\n",
       "      <td>0.629027</td>\n",
       "      <td>1</td>\n",
       "      <td>after 2015</td>\n",
       "      <td>False</td>\n",
       "      <td>1</td>\n",
       "      <td>10238</td>\n",
       "      <td>12000.0</td>\n",
       "      <td>sedan</td>\n",
       "      <td>0</td>\n",
       "      <td>0</td>\n",
       "      <td>0</td>\n",
       "      <td>False</td>\n",
       "    </tr>\n",
       "    <tr>\n",
       "      <th>1</th>\n",
       "      <td>750365</td>\n",
       "      <td>16-25</td>\n",
       "      <td>male</td>\n",
       "      <td>majority</td>\n",
       "      <td>0-9y</td>\n",
       "      <td>none</td>\n",
       "      <td>poverty</td>\n",
       "      <td>0.357757</td>\n",
       "      <td>0</td>\n",
       "      <td>before 2015</td>\n",
       "      <td>False</td>\n",
       "      <td>0</td>\n",
       "      <td>10238</td>\n",
       "      <td>16000.0</td>\n",
       "      <td>sedan</td>\n",
       "      <td>0</td>\n",
       "      <td>0</td>\n",
       "      <td>0</td>\n",
       "      <td>True</td>\n",
       "    </tr>\n",
       "    <tr>\n",
       "      <th>2</th>\n",
       "      <td>199901</td>\n",
       "      <td>16-25</td>\n",
       "      <td>female</td>\n",
       "      <td>majority</td>\n",
       "      <td>0-9y</td>\n",
       "      <td>high school</td>\n",
       "      <td>working class</td>\n",
       "      <td>0.493146</td>\n",
       "      <td>1</td>\n",
       "      <td>before 2015</td>\n",
       "      <td>False</td>\n",
       "      <td>0</td>\n",
       "      <td>10238</td>\n",
       "      <td>11000.0</td>\n",
       "      <td>sedan</td>\n",
       "      <td>0</td>\n",
       "      <td>0</td>\n",
       "      <td>0</td>\n",
       "      <td>False</td>\n",
       "    </tr>\n",
       "    <tr>\n",
       "      <th>3</th>\n",
       "      <td>478866</td>\n",
       "      <td>16-25</td>\n",
       "      <td>male</td>\n",
       "      <td>majority</td>\n",
       "      <td>0-9y</td>\n",
       "      <td>university</td>\n",
       "      <td>working class</td>\n",
       "      <td>0.206013</td>\n",
       "      <td>1</td>\n",
       "      <td>before 2015</td>\n",
       "      <td>False</td>\n",
       "      <td>1</td>\n",
       "      <td>32765</td>\n",
       "      <td>11000.0</td>\n",
       "      <td>sedan</td>\n",
       "      <td>0</td>\n",
       "      <td>0</td>\n",
       "      <td>0</td>\n",
       "      <td>False</td>\n",
       "    </tr>\n",
       "    <tr>\n",
       "      <th>4</th>\n",
       "      <td>731664</td>\n",
       "      <td>26-39</td>\n",
       "      <td>male</td>\n",
       "      <td>majority</td>\n",
       "      <td>10-19y</td>\n",
       "      <td>none</td>\n",
       "      <td>working class</td>\n",
       "      <td>0.388366</td>\n",
       "      <td>1</td>\n",
       "      <td>before 2015</td>\n",
       "      <td>False</td>\n",
       "      <td>0</td>\n",
       "      <td>32765</td>\n",
       "      <td>12000.0</td>\n",
       "      <td>sedan</td>\n",
       "      <td>2</td>\n",
       "      <td>0</td>\n",
       "      <td>1</td>\n",
       "      <td>True</td>\n",
       "    </tr>\n",
       "  </tbody>\n",
       "</table>\n",
       "</div>"
      ],
      "text/plain": [
       "       ID    AGE  GENDER      RACE DRIVING_EXPERIENCE    EDUCATION  \\\n",
       "0  569520    65+  female  majority               0-9y  high school   \n",
       "1  750365  16-25    male  majority               0-9y         none   \n",
       "2  199901  16-25  female  majority               0-9y  high school   \n",
       "3  478866  16-25    male  majority               0-9y   university   \n",
       "4  731664  26-39    male  majority             10-19y         none   \n",
       "\n",
       "          INCOME  CREDIT_SCORE  VEHICLE_OWNERSHIP VEHICLE_YEAR  MARRIED  \\\n",
       "0    upper class      0.629027                  1   after 2015    False   \n",
       "1        poverty      0.357757                  0  before 2015    False   \n",
       "2  working class      0.493146                  1  before 2015    False   \n",
       "3  working class      0.206013                  1  before 2015    False   \n",
       "4  working class      0.388366                  1  before 2015    False   \n",
       "\n",
       "   CHILDREN  POSTAL_CODE  ANNUAL_MILEAGE VEHICLE_TYPE  SPEEDING_VIOLATIONS  \\\n",
       "0         1        10238         12000.0        sedan                    0   \n",
       "1         0        10238         16000.0        sedan                    0   \n",
       "2         0        10238         11000.0        sedan                    0   \n",
       "3         1        32765         11000.0        sedan                    0   \n",
       "4         0        32765         12000.0        sedan                    2   \n",
       "\n",
       "   DUIS  PAST_ACCIDENTS  CLAIMS  \n",
       "0     0               0   False  \n",
       "1     0               0    True  \n",
       "2     0               0   False  \n",
       "3     0               0   False  \n",
       "4     0               1    True  "
      ]
     },
     "execution_count": 13,
     "metadata": {},
     "output_type": "execute_result"
    }
   ],
   "source": [
    "pd.options.mode.chained_assignment = None\n",
    "\n",
    "df_cleaned['CHILDREN'] = df_cleaned['CHILDREN'].astype(int)\n",
    "df_cleaned['VEHICLE_OWNERSHIP']=df_cleaned['VEHICLE_OWNERSHIP'].astype(int)\n",
    "df_cleaned['MARRIED'] = df_cleaned['MARRIED'].astype(bool)\n",
    "df_cleaned['OUTCOME'] = df_cleaned['OUTCOME'].astype(bool)\n",
    "df_cleaned.rename(columns={'OUTCOME':\"CLAIMS\"}, inplace=True)\n",
    " \n",
    "df_cleaned.head()"
   ]
  },
  {
   "cell_type": "code",
   "execution_count": 14,
   "id": "18c412ca",
   "metadata": {
    "execution": {
     "iopub.execute_input": "2024-09-29T13:25:52.471093Z",
     "iopub.status.busy": "2024-09-29T13:25:52.470647Z",
     "iopub.status.idle": "2024-09-29T13:25:52.492227Z",
     "shell.execute_reply": "2024-09-29T13:25:52.490589Z"
    },
    "papermill": {
     "duration": 0.045664,
     "end_time": "2024-09-29T13:25:52.494823",
     "exception": false,
     "start_time": "2024-09-29T13:25:52.449159",
     "status": "completed"
    },
    "tags": []
   },
   "outputs": [
    {
     "name": "stdout",
     "output_type": "stream",
     "text": [
      "<class 'pandas.core.frame.DataFrame'>\n",
      "Index: 8149 entries, 0 to 9999\n",
      "Data columns (total 19 columns):\n",
      " #   Column               Non-Null Count  Dtype  \n",
      "---  ------               --------------  -----  \n",
      " 0   ID                   8149 non-null   int64  \n",
      " 1   AGE                  8149 non-null   object \n",
      " 2   GENDER               8149 non-null   object \n",
      " 3   RACE                 8149 non-null   object \n",
      " 4   DRIVING_EXPERIENCE   8149 non-null   object \n",
      " 5   EDUCATION            8149 non-null   object \n",
      " 6   INCOME               8149 non-null   object \n",
      " 7   CREDIT_SCORE         8149 non-null   float64\n",
      " 8   VEHICLE_OWNERSHIP    8149 non-null   int64  \n",
      " 9   VEHICLE_YEAR         8149 non-null   object \n",
      " 10  MARRIED              8149 non-null   bool   \n",
      " 11  CHILDREN             8149 non-null   int64  \n",
      " 12  POSTAL_CODE          8149 non-null   int64  \n",
      " 13  ANNUAL_MILEAGE       8149 non-null   float64\n",
      " 14  VEHICLE_TYPE         8149 non-null   object \n",
      " 15  SPEEDING_VIOLATIONS  8149 non-null   int64  \n",
      " 16  DUIS                 8149 non-null   int64  \n",
      " 17  PAST_ACCIDENTS       8149 non-null   int64  \n",
      " 18  CLAIMS               8149 non-null   bool   \n",
      "dtypes: bool(2), float64(2), int64(7), object(8)\n",
      "memory usage: 1.1+ MB\n"
     ]
    }
   ],
   "source": [
    "df_cleaned.info()"
   ]
  },
  {
   "cell_type": "code",
   "execution_count": 15,
   "id": "bc39d215",
   "metadata": {
    "execution": {
     "iopub.execute_input": "2024-09-29T13:25:52.537729Z",
     "iopub.status.busy": "2024-09-29T13:25:52.537300Z",
     "iopub.status.idle": "2024-09-29T13:25:52.557698Z",
     "shell.execute_reply": "2024-09-29T13:25:52.556356Z"
    },
    "papermill": {
     "duration": 0.045015,
     "end_time": "2024-09-29T13:25:52.560327",
     "exception": false,
     "start_time": "2024-09-29T13:25:52.515312",
     "status": "completed"
    },
    "tags": []
   },
   "outputs": [
    {
     "data": {
      "text/plain": [
       "0"
      ]
     },
     "execution_count": 15,
     "metadata": {},
     "output_type": "execute_result"
    }
   ],
   "source": [
    "# Checking for duplicate rows\n",
    "df_cleaned.duplicated().sum()"
   ]
  },
  {
   "cell_type": "markdown",
   "id": "3bceef0f",
   "metadata": {
    "papermill": {
     "duration": 0.019394,
     "end_time": "2024-09-29T13:25:52.599607",
     "exception": false,
     "start_time": "2024-09-29T13:25:52.580213",
     "status": "completed"
    },
    "tags": []
   },
   "source": [
    "I did not find any duplicated rows in the dataset."
   ]
  },
  {
   "cell_type": "markdown",
   "id": "b020e918",
   "metadata": {
    "papermill": {
     "duration": 0.019544,
     "end_time": "2024-09-29T13:25:52.639690",
     "exception": false,
     "start_time": "2024-09-29T13:25:52.620146",
     "status": "completed"
    },
    "tags": []
   },
   "source": [
    "## **EXPLORATORY DATA ANALYSIS (EDA)**\n",
    "\n",
    "### **Step 5 - Summary Statistics of Numerical Columns**"
   ]
  },
  {
   "cell_type": "code",
   "execution_count": 16,
   "id": "2023142a",
   "metadata": {
    "execution": {
     "iopub.execute_input": "2024-09-29T13:25:52.681583Z",
     "iopub.status.busy": "2024-09-29T13:25:52.680599Z",
     "iopub.status.idle": "2024-09-29T13:25:52.723555Z",
     "shell.execute_reply": "2024-09-29T13:25:52.722430Z"
    },
    "papermill": {
     "duration": 0.066556,
     "end_time": "2024-09-29T13:25:52.726087",
     "exception": false,
     "start_time": "2024-09-29T13:25:52.659531",
     "status": "completed"
    },
    "tags": []
   },
   "outputs": [
    {
     "data": {
      "text/html": [
       "<div>\n",
       "<style scoped>\n",
       "    .dataframe tbody tr th:only-of-type {\n",
       "        vertical-align: middle;\n",
       "    }\n",
       "\n",
       "    .dataframe tbody tr th {\n",
       "        vertical-align: top;\n",
       "    }\n",
       "\n",
       "    .dataframe thead th {\n",
       "        text-align: right;\n",
       "    }\n",
       "</style>\n",
       "<table border=\"1\" class=\"dataframe\">\n",
       "  <thead>\n",
       "    <tr style=\"text-align: right;\">\n",
       "      <th></th>\n",
       "      <th>ID</th>\n",
       "      <th>CREDIT_SCORE</th>\n",
       "      <th>VEHICLE_OWNERSHIP</th>\n",
       "      <th>CHILDREN</th>\n",
       "      <th>POSTAL_CODE</th>\n",
       "      <th>ANNUAL_MILEAGE</th>\n",
       "      <th>SPEEDING_VIOLATIONS</th>\n",
       "      <th>DUIS</th>\n",
       "      <th>PAST_ACCIDENTS</th>\n",
       "    </tr>\n",
       "  </thead>\n",
       "  <tbody>\n",
       "    <tr>\n",
       "      <th>count</th>\n",
       "      <td>8149.000000</td>\n",
       "      <td>8149.000000</td>\n",
       "      <td>8149.000000</td>\n",
       "      <td>8149.000000</td>\n",
       "      <td>8149.000000</td>\n",
       "      <td>8149.00000</td>\n",
       "      <td>8149.000000</td>\n",
       "      <td>8149.000000</td>\n",
       "      <td>8149.000000</td>\n",
       "    </tr>\n",
       "    <tr>\n",
       "      <th>mean</th>\n",
       "      <td>501339.680083</td>\n",
       "      <td>0.516368</td>\n",
       "      <td>0.699227</td>\n",
       "      <td>0.689287</td>\n",
       "      <td>19725.567922</td>\n",
       "      <td>11693.45932</td>\n",
       "      <td>1.485581</td>\n",
       "      <td>0.240766</td>\n",
       "      <td>1.065530</td>\n",
       "    </tr>\n",
       "    <tr>\n",
       "      <th>std</th>\n",
       "      <td>290857.727101</td>\n",
       "      <td>0.137684</td>\n",
       "      <td>0.458622</td>\n",
       "      <td>0.462814</td>\n",
       "      <td>18784.308198</td>\n",
       "      <td>2822.35147</td>\n",
       "      <td>2.244711</td>\n",
       "      <td>0.557408</td>\n",
       "      <td>1.665623</td>\n",
       "    </tr>\n",
       "    <tr>\n",
       "      <th>min</th>\n",
       "      <td>101.000000</td>\n",
       "      <td>0.053358</td>\n",
       "      <td>0.000000</td>\n",
       "      <td>0.000000</td>\n",
       "      <td>10238.000000</td>\n",
       "      <td>2000.00000</td>\n",
       "      <td>0.000000</td>\n",
       "      <td>0.000000</td>\n",
       "      <td>0.000000</td>\n",
       "    </tr>\n",
       "    <tr>\n",
       "      <th>25%</th>\n",
       "      <td>247706.000000</td>\n",
       "      <td>0.417891</td>\n",
       "      <td>0.000000</td>\n",
       "      <td>0.000000</td>\n",
       "      <td>10238.000000</td>\n",
       "      <td>10000.00000</td>\n",
       "      <td>0.000000</td>\n",
       "      <td>0.000000</td>\n",
       "      <td>0.000000</td>\n",
       "    </tr>\n",
       "    <tr>\n",
       "      <th>50%</th>\n",
       "      <td>503269.000000</td>\n",
       "      <td>0.526759</td>\n",
       "      <td>1.000000</td>\n",
       "      <td>1.000000</td>\n",
       "      <td>10238.000000</td>\n",
       "      <td>12000.00000</td>\n",
       "      <td>0.000000</td>\n",
       "      <td>0.000000</td>\n",
       "      <td>0.000000</td>\n",
       "    </tr>\n",
       "    <tr>\n",
       "      <th>75%</th>\n",
       "      <td>756207.000000</td>\n",
       "      <td>0.620074</td>\n",
       "      <td>1.000000</td>\n",
       "      <td>1.000000</td>\n",
       "      <td>32765.000000</td>\n",
       "      <td>14000.00000</td>\n",
       "      <td>2.000000</td>\n",
       "      <td>0.000000</td>\n",
       "      <td>2.000000</td>\n",
       "    </tr>\n",
       "    <tr>\n",
       "      <th>max</th>\n",
       "      <td>999976.000000</td>\n",
       "      <td>0.960819</td>\n",
       "      <td>1.000000</td>\n",
       "      <td>1.000000</td>\n",
       "      <td>92101.000000</td>\n",
       "      <td>22000.00000</td>\n",
       "      <td>22.000000</td>\n",
       "      <td>6.000000</td>\n",
       "      <td>15.000000</td>\n",
       "    </tr>\n",
       "  </tbody>\n",
       "</table>\n",
       "</div>"
      ],
      "text/plain": [
       "                  ID  CREDIT_SCORE  VEHICLE_OWNERSHIP     CHILDREN  \\\n",
       "count    8149.000000   8149.000000        8149.000000  8149.000000   \n",
       "mean   501339.680083      0.516368           0.699227     0.689287   \n",
       "std    290857.727101      0.137684           0.458622     0.462814   \n",
       "min       101.000000      0.053358           0.000000     0.000000   \n",
       "25%    247706.000000      0.417891           0.000000     0.000000   \n",
       "50%    503269.000000      0.526759           1.000000     1.000000   \n",
       "75%    756207.000000      0.620074           1.000000     1.000000   \n",
       "max    999976.000000      0.960819           1.000000     1.000000   \n",
       "\n",
       "        POSTAL_CODE  ANNUAL_MILEAGE  SPEEDING_VIOLATIONS         DUIS  \\\n",
       "count   8149.000000      8149.00000          8149.000000  8149.000000   \n",
       "mean   19725.567922     11693.45932             1.485581     0.240766   \n",
       "std    18784.308198      2822.35147             2.244711     0.557408   \n",
       "min    10238.000000      2000.00000             0.000000     0.000000   \n",
       "25%    10238.000000     10000.00000             0.000000     0.000000   \n",
       "50%    10238.000000     12000.00000             0.000000     0.000000   \n",
       "75%    32765.000000     14000.00000             2.000000     0.000000   \n",
       "max    92101.000000     22000.00000            22.000000     6.000000   \n",
       "\n",
       "       PAST_ACCIDENTS  \n",
       "count     8149.000000  \n",
       "mean         1.065530  \n",
       "std          1.665623  \n",
       "min          0.000000  \n",
       "25%          0.000000  \n",
       "50%          0.000000  \n",
       "75%          2.000000  \n",
       "max         15.000000  "
      ]
     },
     "execution_count": 16,
     "metadata": {},
     "output_type": "execute_result"
    }
   ],
   "source": [
    "df_cleaned.describe()"
   ]
  },
  {
   "cell_type": "code",
   "execution_count": 17,
   "id": "d03a4e34",
   "metadata": {
    "execution": {
     "iopub.execute_input": "2024-09-29T13:25:52.768044Z",
     "iopub.status.busy": "2024-09-29T13:25:52.767607Z",
     "iopub.status.idle": "2024-09-29T13:25:52.812179Z",
     "shell.execute_reply": "2024-09-29T13:25:52.811025Z"
    },
    "papermill": {
     "duration": 0.068678,
     "end_time": "2024-09-29T13:25:52.814808",
     "exception": false,
     "start_time": "2024-09-29T13:25:52.746130",
     "status": "completed"
    },
    "tags": []
   },
   "outputs": [
    {
     "data": {
      "text/html": [
       "<div>\n",
       "<style scoped>\n",
       "    .dataframe tbody tr th:only-of-type {\n",
       "        vertical-align: middle;\n",
       "    }\n",
       "\n",
       "    .dataframe tbody tr th {\n",
       "        vertical-align: top;\n",
       "    }\n",
       "\n",
       "    .dataframe thead th {\n",
       "        text-align: right;\n",
       "    }\n",
       "</style>\n",
       "<table border=\"1\" class=\"dataframe\">\n",
       "  <thead>\n",
       "    <tr style=\"text-align: right;\">\n",
       "      <th></th>\n",
       "      <th>AGE</th>\n",
       "      <th>GENDER</th>\n",
       "      <th>RACE</th>\n",
       "      <th>DRIVING_EXPERIENCE</th>\n",
       "      <th>EDUCATION</th>\n",
       "      <th>INCOME</th>\n",
       "      <th>VEHICLE_YEAR</th>\n",
       "      <th>VEHICLE_TYPE</th>\n",
       "    </tr>\n",
       "  </thead>\n",
       "  <tbody>\n",
       "    <tr>\n",
       "      <th>count</th>\n",
       "      <td>8149</td>\n",
       "      <td>8149</td>\n",
       "      <td>8149</td>\n",
       "      <td>8149</td>\n",
       "      <td>8149</td>\n",
       "      <td>8149</td>\n",
       "      <td>8149</td>\n",
       "      <td>8149</td>\n",
       "    </tr>\n",
       "    <tr>\n",
       "      <th>unique</th>\n",
       "      <td>4</td>\n",
       "      <td>2</td>\n",
       "      <td>2</td>\n",
       "      <td>4</td>\n",
       "      <td>3</td>\n",
       "      <td>4</td>\n",
       "      <td>2</td>\n",
       "      <td>2</td>\n",
       "    </tr>\n",
       "    <tr>\n",
       "      <th>top</th>\n",
       "      <td>26-39</td>\n",
       "      <td>female</td>\n",
       "      <td>majority</td>\n",
       "      <td>0-9y</td>\n",
       "      <td>high school</td>\n",
       "      <td>upper class</td>\n",
       "      <td>before 2015</td>\n",
       "      <td>sedan</td>\n",
       "    </tr>\n",
       "    <tr>\n",
       "      <th>freq</th>\n",
       "      <td>2475</td>\n",
       "      <td>4084</td>\n",
       "      <td>7323</td>\n",
       "      <td>2864</td>\n",
       "      <td>3404</td>\n",
       "      <td>3588</td>\n",
       "      <td>5642</td>\n",
       "      <td>7761</td>\n",
       "    </tr>\n",
       "  </tbody>\n",
       "</table>\n",
       "</div>"
      ],
      "text/plain": [
       "          AGE  GENDER      RACE DRIVING_EXPERIENCE    EDUCATION       INCOME  \\\n",
       "count    8149    8149      8149               8149         8149         8149   \n",
       "unique      4       2         2                  4            3            4   \n",
       "top     26-39  female  majority               0-9y  high school  upper class   \n",
       "freq     2475    4084      7323               2864         3404         3588   \n",
       "\n",
       "       VEHICLE_YEAR VEHICLE_TYPE  \n",
       "count          8149         8149  \n",
       "unique            2            2  \n",
       "top     before 2015        sedan  \n",
       "freq           5642         7761  "
      ]
     },
     "execution_count": 17,
     "metadata": {},
     "output_type": "execute_result"
    }
   ],
   "source": [
    "# Summary Statistics of Object Columns:\n",
    "\n",
    "df_cleaned.describe(include=['object'])"
   ]
  },
  {
   "cell_type": "code",
   "execution_count": 18,
   "id": "7c2f96ab",
   "metadata": {
    "execution": {
     "iopub.execute_input": "2024-09-29T13:25:52.858032Z",
     "iopub.status.busy": "2024-09-29T13:25:52.857574Z",
     "iopub.status.idle": "2024-09-29T13:25:52.875711Z",
     "shell.execute_reply": "2024-09-29T13:25:52.874526Z"
    },
    "papermill": {
     "duration": 0.042696,
     "end_time": "2024-09-29T13:25:52.878307",
     "exception": false,
     "start_time": "2024-09-29T13:25:52.835611",
     "status": "completed"
    },
    "tags": []
   },
   "outputs": [
    {
     "data": {
      "text/html": [
       "<div>\n",
       "<style scoped>\n",
       "    .dataframe tbody tr th:only-of-type {\n",
       "        vertical-align: middle;\n",
       "    }\n",
       "\n",
       "    .dataframe tbody tr th {\n",
       "        vertical-align: top;\n",
       "    }\n",
       "\n",
       "    .dataframe thead th {\n",
       "        text-align: right;\n",
       "    }\n",
       "</style>\n",
       "<table border=\"1\" class=\"dataframe\">\n",
       "  <thead>\n",
       "    <tr style=\"text-align: right;\">\n",
       "      <th></th>\n",
       "      <th>MARRIED</th>\n",
       "      <th>CLAIMS</th>\n",
       "    </tr>\n",
       "  </thead>\n",
       "  <tbody>\n",
       "    <tr>\n",
       "      <th>count</th>\n",
       "      <td>8149</td>\n",
       "      <td>8149</td>\n",
       "    </tr>\n",
       "    <tr>\n",
       "      <th>unique</th>\n",
       "      <td>2</td>\n",
       "      <td>2</td>\n",
       "    </tr>\n",
       "    <tr>\n",
       "      <th>top</th>\n",
       "      <td>True</td>\n",
       "      <td>False</td>\n",
       "    </tr>\n",
       "    <tr>\n",
       "      <th>freq</th>\n",
       "      <td>4083</td>\n",
       "      <td>5613</td>\n",
       "    </tr>\n",
       "  </tbody>\n",
       "</table>\n",
       "</div>"
      ],
      "text/plain": [
       "       MARRIED CLAIMS\n",
       "count     8149   8149\n",
       "unique       2      2\n",
       "top       True  False\n",
       "freq      4083   5613"
      ]
     },
     "execution_count": 18,
     "metadata": {},
     "output_type": "execute_result"
    }
   ],
   "source": [
    "# Summary Statistics of Boolean Columns:\n",
    "\n",
    "df_cleaned.describe(include=['bool'])"
   ]
  },
  {
   "cell_type": "code",
   "execution_count": 19,
   "id": "127e6942",
   "metadata": {
    "execution": {
     "iopub.execute_input": "2024-09-29T13:25:52.921498Z",
     "iopub.status.busy": "2024-09-29T13:25:52.921052Z",
     "iopub.status.idle": "2024-09-29T13:25:52.926347Z",
     "shell.execute_reply": "2024-09-29T13:25:52.925212Z"
    },
    "papermill": {
     "duration": 0.029978,
     "end_time": "2024-09-29T13:25:52.929024",
     "exception": false,
     "start_time": "2024-09-29T13:25:52.899046",
     "status": "completed"
    },
    "tags": []
   },
   "outputs": [],
   "source": [
    "import matplotlib.pyplot as plt"
   ]
  },
  {
   "cell_type": "markdown",
   "id": "ca9f33d1",
   "metadata": {
    "papermill": {
     "duration": 0.02061,
     "end_time": "2024-09-29T13:25:52.970762",
     "exception": false,
     "start_time": "2024-09-29T13:25:52.950152",
     "status": "completed"
    },
    "tags": []
   },
   "source": [
    "## **DATA VISUALISATION USING MATPLOTLIB**\n",
    "\n",
    "### **Step 6 - Plotting a Line Graph**\n",
    "Due to the nature of the dataset, I was unable to create a line chart. This is because there is no time-related data represented in the dataset. Therefore, I instead created a series of simple bar charts comparing speeding violations, DUIS and claims against age and driving experience. I also created three more complex bar charts comparing the same three categories of speeding violations, DUIS and claims agains age and driving experience but this time adding vehicle ownership to the mix. Finally, I created three pie charts representing the percentage of speeding violations, claims and DUIS against customers in the dataset."
   ]
  },
  {
   "cell_type": "code",
   "execution_count": 20,
   "id": "4a106706",
   "metadata": {
    "execution": {
     "iopub.execute_input": "2024-09-29T13:25:53.014155Z",
     "iopub.status.busy": "2024-09-29T13:25:53.013681Z",
     "iopub.status.idle": "2024-09-29T13:25:53.019165Z",
     "shell.execute_reply": "2024-09-29T13:25:53.017872Z"
    },
    "papermill": {
     "duration": 0.030082,
     "end_time": "2024-09-29T13:25:53.021678",
     "exception": false,
     "start_time": "2024-09-29T13:25:52.991596",
     "status": "completed"
    },
    "tags": []
   },
   "outputs": [],
   "source": [
    "import matplotlib.pyplot as plt\n",
    "import numpy as np"
   ]
  },
  {
   "cell_type": "markdown",
   "id": "498be44f",
   "metadata": {
    "papermill": {
     "duration": 0.076365,
     "end_time": "2024-09-29T13:25:53.118716",
     "exception": false,
     "start_time": "2024-09-29T13:25:53.042351",
     "status": "completed"
    },
    "tags": []
   },
   "source": [
    "### **Step 7 - Plotting Simple Bar Graphs**"
   ]
  },
  {
   "cell_type": "code",
   "execution_count": 21,
   "id": "7ed5bb36",
   "metadata": {
    "execution": {
     "iopub.execute_input": "2024-09-29T13:25:53.161679Z",
     "iopub.status.busy": "2024-09-29T13:25:53.161252Z",
     "iopub.status.idle": "2024-09-29T13:25:53.529962Z",
     "shell.execute_reply": "2024-09-29T13:25:53.527888Z"
    },
    "papermill": {
     "duration": 0.39405,
     "end_time": "2024-09-29T13:25:53.533460",
     "exception": false,
     "start_time": "2024-09-29T13:25:53.139410",
     "status": "completed"
    },
    "tags": []
   },
   "outputs": [
    {
     "data": {
      "image/png": "[encoded data removed]",
      "text/plain": [
       "<Figure size 640x480 with 1 Axes>"
      ]
     },
     "metadata": {},
     "output_type": "display_data"
    }
   ],
   "source": [
    "# Creating a bar chart to represent the number of speeding violations by age:\n",
    "\n",
    "df_cleaned.groupby('AGE').SPEEDING_VIOLATIONS.mean().plot.bar(color='#E9967A')\n",
    "plt.xlabel(\"Age\")\n",
    "plt.ylabel(\"Speeding Violations\")\n",
    "plt.title(\"Age vs Number of Speeding Violations\")\n",
    "plt.show()"
   ]
  },
  {
   "cell_type": "markdown",
   "id": "4e624b45",
   "metadata": {
    "papermill": {
     "duration": 0.023549,
     "end_time": "2024-09-29T13:25:53.586390",
     "exception": false,
     "start_time": "2024-09-29T13:25:53.562841",
     "status": "completed"
    },
    "tags": []
   },
   "source": [
    "I can see here that the older a customer is the higher the number of speeding violations are. This makes the 65+ age group the highest risk to insure with regard to speeding violations. Interestingly, the 16-25 year age group doesn't show any speeding violations, making them the lowest risk for this factor."
   ]
  },
  {
   "cell_type": "code",
   "execution_count": 22,
   "id": "f1bbc586",
   "metadata": {
    "execution": {
     "iopub.execute_input": "2024-09-29T13:25:53.632243Z",
     "iopub.status.busy": "2024-09-29T13:25:53.631696Z",
     "iopub.status.idle": "2024-09-29T13:25:53.844876Z",
     "shell.execute_reply": "2024-09-29T13:25:53.843568Z"
    },
    "papermill": {
     "duration": 0.239436,
     "end_time": "2024-09-29T13:25:53.847600",
     "exception": false,
     "start_time": "2024-09-29T13:25:53.608164",
     "status": "completed"
    },
    "tags": []
   },
   "outputs": [
    {
     "data": {
      "image/png": "[encoded data removed]",
      "text/plain": [
       "<Figure size 640x480 with 1 Axes>"
      ]
     },
     "metadata": {},
     "output_type": "display_data"
    }
   ],
   "source": [
    "# Creating a second bar chart to represent the number of DUIS (Driving Under the Influence) by Age:\n",
    "\n",
    "df_cleaned.groupby('AGE').DUIS.mean().plot.bar(color='#66CDAA')\n",
    "plt.xlabel(\"Age\")\n",
    "plt.ylabel(\"DUIS\")\n",
    "plt.title(\"Age vs Number of DUIS\")\n",
    "plt.show()"
   ]
  },
  {
   "cell_type": "markdown",
   "id": "a36d70ee",
   "metadata": {
    "papermill": {
     "duration": 0.022326,
     "end_time": "2024-09-29T13:25:53.891661",
     "exception": false,
     "start_time": "2024-09-29T13:25:53.869335",
     "status": "completed"
    },
    "tags": []
   },
   "source": [
    "Similarly to speeding convictions, we find the highest number of customers on the dataset caught driving under the influence in the 65+ age group, making them the riskiest group to insure, while the 16-25 year age group shows nothing."
   ]
  },
  {
   "cell_type": "code",
   "execution_count": 23,
   "id": "f92ad2ab",
   "metadata": {
    "execution": {
     "iopub.execute_input": "2024-09-29T13:25:53.937821Z",
     "iopub.status.busy": "2024-09-29T13:25:53.937004Z",
     "iopub.status.idle": "2024-09-29T13:25:54.201373Z",
     "shell.execute_reply": "2024-09-29T13:25:54.200119Z"
    },
    "papermill": {
     "duration": 0.290369,
     "end_time": "2024-09-29T13:25:54.204368",
     "exception": false,
     "start_time": "2024-09-29T13:25:53.913999",
     "status": "completed"
    },
    "tags": []
   },
   "outputs": [
    {
     "data": {
      "image/png": "[encoded data removed]",
      "text/plain": [
       "<Figure size 640x480 with 1 Axes>"
      ]
     },
     "metadata": {},
     "output_type": "display_data"
    }
   ],
   "source": [
    "# Creating a third bar chart to represent the number of claims made by age:\n",
    "\n",
    "df_cleaned.groupby('AGE').CLAIMS.mean().plot.bar(color='#4169E1')\n",
    "plt.xlabel(\"Age\")\n",
    "plt.ylabel(\"Claims\")\n",
    "plt.title(\"Age vs Number of Claims\")\n",
    "plt.show()"
   ]
  },
  {
   "cell_type": "markdown",
   "id": "cc81eb5d",
   "metadata": {
    "papermill": {
     "duration": 0.023641,
     "end_time": "2024-09-29T13:25:54.251395",
     "exception": false,
     "start_time": "2024-09-29T13:25:54.227754",
     "status": "completed"
    },
    "tags": []
   },
   "source": [
    "Comparing claims made across the age groups presents a very different picture to the first two. The youngest group have the highest number of claims, making them the riskiest group to insure, whereas the 65+ age group make fewer claims. In reality, both the youngest and oldest groups tend to be the riskiest while the two middle age groups tend to be less risky. This is because young drivers are inexperienced, 65+ drivers tend to lose spatial awareness and their reaction times are much slower, while the middle two groups tend to have families and more experience, resulting in safer driving."
   ]
  },
  {
   "cell_type": "code",
   "execution_count": 24,
   "id": "ba251004",
   "metadata": {
    "execution": {
     "iopub.execute_input": "2024-09-29T13:25:54.297980Z",
     "iopub.status.busy": "2024-09-29T13:25:54.297477Z",
     "iopub.status.idle": "2024-09-29T13:25:54.507096Z",
     "shell.execute_reply": "2024-09-29T13:25:54.505869Z"
    },
    "papermill": {
     "duration": 0.236431,
     "end_time": "2024-09-29T13:25:54.510005",
     "exception": false,
     "start_time": "2024-09-29T13:25:54.273574",
     "status": "completed"
    },
    "tags": []
   },
   "outputs": [
    {
     "data": {
      "image/png": "[encoded data removed]",
      "text/plain": [
       "<Figure size 640x480 with 1 Axes>"
      ]
     },
     "metadata": {},
     "output_type": "display_data"
    }
   ],
   "source": [
    "# Creating a fourth bar chart to represent the number of speeding violations by driving experience:\n",
    "\n",
    "df_cleaned.groupby('DRIVING_EXPERIENCE').SPEEDING_VIOLATIONS.mean().plot.bar(color='#20B2AA')\n",
    "plt.xlabel(\"Driving Experience\")\n",
    "plt.ylabel(\"Speeding Violations\")\n",
    "plt.title(\"Driving Experience vs Number of Speeding Violations\")\n",
    "plt.show()"
   ]
  },
  {
   "cell_type": "code",
   "execution_count": 25,
   "id": "3ed1d417",
   "metadata": {
    "execution": {
     "iopub.execute_input": "2024-09-29T13:25:54.557738Z",
     "iopub.status.busy": "2024-09-29T13:25:54.557292Z",
     "iopub.status.idle": "2024-09-29T13:25:54.782552Z",
     "shell.execute_reply": "2024-09-29T13:25:54.781257Z"
    },
    "papermill": {
     "duration": 0.252858,
     "end_time": "2024-09-29T13:25:54.785810",
     "exception": false,
     "start_time": "2024-09-29T13:25:54.532952",
     "status": "completed"
    },
    "tags": []
   },
   "outputs": [
    {
     "data": {
      "image/png": "[encoded data removed]",
      "text/plain": [
       "<Figure size 640x480 with 1 Axes>"
      ]
     },
     "metadata": {},
     "output_type": "display_data"
    }
   ],
   "source": [
    "# Creating a fifth bar chart to represent the number of DUIS by driving experience:\n",
    "\n",
    "df_cleaned.groupby('DRIVING_EXPERIENCE').DUIS.mean().plot.bar(color='#F0E68C')\n",
    "plt.xlabel(\"Driving Experience\")\n",
    "plt.ylabel(\"DUIS\")\n",
    "plt.title(\"Driving Experience vs Number of DUIS\")\n",
    "plt.show()"
   ]
  },
  {
   "cell_type": "code",
   "execution_count": 26,
   "id": "59eff7c8",
   "metadata": {
    "execution": {
     "iopub.execute_input": "2024-09-29T13:25:54.834596Z",
     "iopub.status.busy": "2024-09-29T13:25:54.834159Z",
     "iopub.status.idle": "2024-09-29T13:25:55.063250Z",
     "shell.execute_reply": "2024-09-29T13:25:55.062023Z"
    },
    "papermill": {
     "duration": 0.256687,
     "end_time": "2024-09-29T13:25:55.066279",
     "exception": false,
     "start_time": "2024-09-29T13:25:54.809592",
     "status": "completed"
    },
    "tags": []
   },
   "outputs": [
    {
     "data": {
      "image/png": "[encoded data removed]",
      "text/plain": [
       "<Figure size 640x480 with 1 Axes>"
      ]
     },
     "metadata": {},
     "output_type": "display_data"
    }
   ],
   "source": [
    "# Creating a sixth bar chart representing the number of claims made by driving experience:\n",
    "\n",
    "df_cleaned.groupby('DRIVING_EXPERIENCE').CLAIMS.mean().plot.bar(color='#B22222')\n",
    "plt.xlabel(\"Driving Experience\")\n",
    "plt.ylabel(\"Claims\")\n",
    "plt.title(\"Driving Experience vs Number of Claims\")\n",
    "plt.show()"
   ]
  },
  {
   "cell_type": "markdown",
   "id": "0d8e9e7e",
   "metadata": {
    "papermill": {
     "duration": 0.024971,
     "end_time": "2024-09-29T13:25:55.115156",
     "exception": false,
     "start_time": "2024-09-29T13:25:55.090185",
     "status": "completed"
    },
    "tags": []
   },
   "source": [
    "The driving experience comparisons with speeding violations, DUIS and claims reveals a very similar picture to the same comparisons with age. We can therefore conclude that age and driving experience go hand in hand according to the data represented."
   ]
  },
  {
   "cell_type": "markdown",
   "id": "44f8bd25",
   "metadata": {
    "papermill": {
     "duration": 0.023693,
     "end_time": "2024-09-29T13:25:55.162687",
     "exception": false,
     "start_time": "2024-09-29T13:25:55.138994",
     "status": "completed"
    },
    "tags": []
   },
   "source": [
    "## **ADVANCED EDA**\n",
    "\n",
    "### **Creating More Complex Bar Charts**"
   ]
  },
  {
   "cell_type": "code",
   "execution_count": 27,
   "id": "8322b82a",
   "metadata": {
    "execution": {
     "iopub.execute_input": "2024-09-29T13:25:55.211658Z",
     "iopub.status.busy": "2024-09-29T13:25:55.211160Z",
     "iopub.status.idle": "2024-09-29T13:25:55.667230Z",
     "shell.execute_reply": "2024-09-29T13:25:55.666011Z"
    },
    "papermill": {
     "duration": 0.483377,
     "end_time": "2024-09-29T13:25:55.669603",
     "exception": false,
     "start_time": "2024-09-29T13:25:55.186226",
     "status": "completed"
    },
    "tags": []
   },
   "outputs": [
    {
     "data": {
      "image/png": "[encoded data removed]",
      "text/plain": [
       "<Figure size 1500x800 with 1 Axes>"
      ]
     },
     "metadata": {},
     "output_type": "display_data"
    }
   ],
   "source": [
    "# Creating a new column to represent the combination of Age Group and Driving Experience\n",
    "df_cleaned['Age_Driving_Experience'] = df_cleaned['AGE'].astype(str) + ' (' + df_cleaned['DRIVING_EXPERIENCE'].astype(str) + ' years)'\n",
    "\n",
    "# Grouping by the new combination of Age Group and Driving Experience along with Vehicle Ownership\n",
    "age_experience_ownership_speeding_violations = df_cleaned.groupby(['Age_Driving_Experience', 'VEHICLE_OWNERSHIP'])['SPEEDING_VIOLATIONS'].sum().reset_index()\n",
    "age_experience_ownership_speeding_violations.columns = ['Age_Driving_Experience', 'Vehicle Ownership', 'Speeding_Violations']\n",
    "\n",
    "# Plotting the chart\n",
    "plt.figure(figsize=(15, 8))\n",
    "sns.barplot(x='Age_Driving_Experience', y='Speeding_Violations', hue='Vehicle Ownership', data=age_experience_ownership_speeding_violations, palette='Set2', errorbar=None)\n",
    "plt.title('Speeding Violations by Age Group, Driving Experience, and Vehicle Ownership')\n",
    "plt.xlabel('Age Group (Driving Experience)')\n",
    "plt.ylabel('Number of Speeding Violations')\n",
    "plt.xticks(rotation=45)\n",
    "plt.legend(title='Vehicle Ownership (1=Yes, 0=No)')\n",
    "plt.show()"
   ]
  },
  {
   "cell_type": "code",
   "execution_count": 28,
   "id": "863ad23c",
   "metadata": {
    "execution": {
     "iopub.execute_input": "2024-09-29T13:25:55.721634Z",
     "iopub.status.busy": "2024-09-29T13:25:55.720892Z",
     "iopub.status.idle": "2024-09-29T13:25:56.214553Z",
     "shell.execute_reply": "2024-09-29T13:25:56.213215Z"
    },
    "papermill": {
     "duration": 0.522259,
     "end_time": "2024-09-29T13:25:56.217219",
     "exception": false,
     "start_time": "2024-09-29T13:25:55.694960",
     "status": "completed"
    },
    "tags": []
   },
   "outputs": [
    {
     "data": {
      "image/png": "[encoded data removed]",
      "text/plain": [
       "<Figure size 1500x800 with 1 Axes>"
      ]
     },
     "metadata": {},
     "output_type": "display_data"
    }
   ],
   "source": [
    "# Creating a new column to represent the combination of Age Group and Driving Experience\n",
    "df_cleaned['Age_Driving_Experience'] = df_cleaned['AGE'].astype(str) + ' (' + df_cleaned['DRIVING_EXPERIENCE'].astype(str) + ' years)'\n",
    "\n",
    "# Grouping by the new combination of Age Group and Driving Experience along with Vehicle Ownership\n",
    "age_experience_ownership_duis = df_cleaned.groupby(['Age_Driving_Experience', 'VEHICLE_OWNERSHIP'])['DUIS'].sum().reset_index()\n",
    "age_experience_ownership_duis.columns = ['Age_Driving_Experience', 'Vehicle Ownership', 'DUIS']\n",
    "\n",
    "# Plotting the chart\n",
    "plt.figure(figsize=(15, 8))\n",
    "sns.barplot(x='Age_Driving_Experience', y='DUIS', hue='Vehicle Ownership', data=age_experience_ownership_duis, palette='Set3', errorbar=None)\n",
    "plt.title('Driving Under the Influence by Age Group, Driving Experience, and Vehicle Ownership')\n",
    "plt.xlabel('Age Group and Driving Experience')\n",
    "plt.ylabel('Number of DUIS')\n",
    "plt.xticks(rotation=45)\n",
    "plt.legend(title='Vehicle Ownership (1=Yes, 0=No)')\n",
    "plt.show()"
   ]
  },
  {
   "cell_type": "markdown",
   "id": "8f756109",
   "metadata": {
    "papermill": {
     "duration": 0.026481,
     "end_time": "2024-09-29T13:25:56.272252",
     "exception": false,
     "start_time": "2024-09-29T13:25:56.245771",
     "status": "completed"
    },
    "tags": []
   },
   "source": [
    "The patterns in the above two graphs are again very similar to each other. Both charts shows that generally the more driving experience one has, the higher the number of speeding violations or driving under the influence. Also more car owners receive speeding and DUI convictions than the named drivers who don't own the vehicle. The riskiest group is the 40-64 year age group of vehicle owners who have 20-29 years driving experience. Since the youngest group, 16-25 years are least likely to own vehicles, there is no data showing for them."
   ]
  },
  {
   "cell_type": "code",
   "execution_count": 29,
   "id": "a6958bc5",
   "metadata": {
    "execution": {
     "iopub.execute_input": "2024-09-29T13:25:56.329266Z",
     "iopub.status.busy": "2024-09-29T13:25:56.328839Z",
     "iopub.status.idle": "2024-09-29T13:25:56.829701Z",
     "shell.execute_reply": "2024-09-29T13:25:56.828463Z"
    },
    "papermill": {
     "duration": 0.533936,
     "end_time": "2024-09-29T13:25:56.833122",
     "exception": false,
     "start_time": "2024-09-29T13:25:56.299186",
     "status": "completed"
    },
    "tags": []
   },
   "outputs": [
    {
     "data": {
      "image/png": "[encoded data removed]",
      "text/plain": [
       "<Figure size 1500x800 with 1 Axes>"
      ]
     },
     "metadata": {},
     "output_type": "display_data"
    }
   ],
   "source": [
    "# Creating a new column to represent the combination of Age Group and Driving Experience\n",
    "df_cleaned['Age_Driving_Experience'] = df_cleaned['AGE'].astype(str) + ' (' + df_cleaned['DRIVING_EXPERIENCE'].astype(str) + ' years)'\n",
    "\n",
    "# Grouping by the new combination of Age Group and Driving Experience along with Vehicle Ownership\n",
    "age_experience_ownership_claims = df_cleaned.groupby(['Age_Driving_Experience', 'VEHICLE_OWNERSHIP'])['CLAIMS'].sum().reset_index()\n",
    "age_experience_ownership_claims.columns = ['Age_Driving_Experience', 'Vehicle Ownership', 'Claims']\n",
    "\n",
    "# Plotting the chart\n",
    "plt.figure(figsize=(15, 8))\n",
    "sns.barplot(x='Age_Driving_Experience', y='Claims', hue='Vehicle Ownership', data=age_experience_ownership_claims, palette='Set1', errorbar=None)\n",
    "plt.title('Claims by Age Group, Driving Experience, and Vehicle Ownership')\n",
    "plt.xlabel('Age Group (Driving Experience)')\n",
    "plt.ylabel('Number of Claims')\n",
    "plt.xticks(rotation=45)\n",
    "plt.legend(title='Vehicle Ownership (1=Yes, 0=No)')\n",
    "plt.show()"
   ]
  },
  {
   "cell_type": "markdown",
   "id": "9767dcf8",
   "metadata": {
    "papermill": {
     "duration": 0.028265,
     "end_time": "2024-09-29T13:25:56.890160",
     "exception": false,
     "start_time": "2024-09-29T13:25:56.861895",
     "status": "completed"
    },
    "tags": []
   },
   "source": [
    "The above graph once again changes signficantly from the previous two as for the simple bar charts. There are more drivers under the age of 40 who do not own their own vehicles making claims than drivers who do own their vehicles. Therefore they may be the named drivers on a policy and, due to their age, are more inexperienced at driving. The pattern changes from the age of 40, where more vehicle owners can be seen making claims, although overall, the numbers are significantly less."
   ]
  },
  {
   "cell_type": "markdown",
   "id": "394a7527",
   "metadata": {
    "papermill": {
     "duration": 0.028711,
     "end_time": "2024-09-29T13:25:56.946933",
     "exception": false,
     "start_time": "2024-09-29T13:25:56.918222",
     "status": "completed"
    },
    "tags": []
   },
   "source": [
    "### **Creating Pie Charts**"
   ]
  },
  {
   "cell_type": "code",
   "execution_count": 30,
   "id": "01182776",
   "metadata": {
    "execution": {
     "iopub.execute_input": "2024-09-29T13:25:57.006089Z",
     "iopub.status.busy": "2024-09-29T13:25:57.005602Z",
     "iopub.status.idle": "2024-09-29T13:25:57.205872Z",
     "shell.execute_reply": "2024-09-29T13:25:57.204262Z"
    },
    "papermill": {
     "duration": 0.236013,
     "end_time": "2024-09-29T13:25:57.211159",
     "exception": false,
     "start_time": "2024-09-29T13:25:56.975146",
     "status": "completed"
    },
    "tags": []
   },
   "outputs": [
    {
     "data": {
      "image/png": "[encoded data removed]",
      "text/plain": [
       "<Figure size 640x480 with 1 Axes>"
      ]
     },
     "metadata": {},
     "output_type": "display_data"
    }
   ],
   "source": [
    "# Creating a pie chart showing the percentage of speeding violations made in the dataset:\n",
    "\n",
    "df_cleaned['SPEEDING_VIOLATIONS'] = df_cleaned['SPEEDING_VIOLATIONS'].astype(bool)\n",
    "colors=['#E9967A','#66CDAA']\n",
    "\n",
    "fig, ax = plt.subplots()\n",
    "df_cleaned['SPEEDING_VIOLATIONS'].value_counts().plot.pie(explode=[0,0.1],colors=colors, autopct='%1.1f%%',shadow=True)\n",
    "plt.title('Percentage of Speeding Violations Made')\n",
    "\n",
    "plt.show()"
   ]
  },
  {
   "cell_type": "markdown",
   "id": "d6dd1131",
   "metadata": {
    "papermill": {
     "duration": 0.029092,
     "end_time": "2024-09-29T13:25:57.295187",
     "exception": false,
     "start_time": "2024-09-29T13:25:57.266095",
     "status": "completed"
    },
    "tags": []
   },
   "source": [
    "We can see here that there is a fairly even split, almost 50-50%, between customers who do receive speeding violations versus those who have a clean driving record."
   ]
  },
  {
   "cell_type": "code",
   "execution_count": 31,
   "id": "6631ec5e",
   "metadata": {
    "execution": {
     "iopub.execute_input": "2024-09-29T13:25:57.355374Z",
     "iopub.status.busy": "2024-09-29T13:25:57.354835Z",
     "iopub.status.idle": "2024-09-29T13:25:57.527393Z",
     "shell.execute_reply": "2024-09-29T13:25:57.525764Z"
    },
    "papermill": {
     "duration": 0.208596,
     "end_time": "2024-09-29T13:25:57.532664",
     "exception": false,
     "start_time": "2024-09-29T13:25:57.324068",
     "status": "completed"
    },
    "tags": []
   },
   "outputs": [
    {
     "data": {
      "image/png": "[encoded data removed]",
      "text/plain": [
       "<Figure size 640x480 with 1 Axes>"
      ]
     },
     "metadata": {},
     "output_type": "display_data"
    }
   ],
   "source": [
    "# Creating a pie chart showing the percentage of DUIS made in the dataset:\n",
    "\n",
    "df_cleaned['DUIS'] = df_cleaned['DUIS'].astype(bool)\n",
    "colors = ['#20B2AA','#F0E68C']\n",
    "\n",
    "fig, ax = plt.subplots()\n",
    "df_cleaned['DUIS'].value_counts().plot.pie(explode=[0,0.1],colors=colors, autopct='%1.1f%%',shadow=True)\n",
    "plt.title('Percentage of People Driving Under the Influence')\n",
    "\n",
    "plt.show()"
   ]
  },
  {
   "cell_type": "markdown",
   "id": "d6131331",
   "metadata": {
    "papermill": {
     "duration": 0.036003,
     "end_time": "2024-09-29T13:25:57.631569",
     "exception": false,
     "start_time": "2024-09-29T13:25:57.595566",
     "status": "completed"
    },
    "tags": []
   },
   "source": [
    "However, we can see that there are far fewer customers caught driving under the influence of alcohol or drugs (DUIS), less than 20%."
   ]
  },
  {
   "cell_type": "code",
   "execution_count": 32,
   "id": "d539c7ea",
   "metadata": {
    "execution": {
     "iopub.execute_input": "2024-09-29T13:25:57.691590Z",
     "iopub.status.busy": "2024-09-29T13:25:57.691153Z",
     "iopub.status.idle": "2024-09-29T13:25:57.868632Z",
     "shell.execute_reply": "2024-09-29T13:25:57.867031Z"
    },
    "papermill": {
     "duration": 0.212152,
     "end_time": "2024-09-29T13:25:57.872887",
     "exception": false,
     "start_time": "2024-09-29T13:25:57.660735",
     "status": "completed"
    },
    "tags": []
   },
   "outputs": [
    {
     "data": {
      "image/png": "[encoded data removed]",
      "text/plain": [
       "<Figure size 640x480 with 1 Axes>"
      ]
     },
     "metadata": {},
     "output_type": "display_data"
    }
   ],
   "source": [
    "# Creating a pie chart showing the percentage of claims made in the dataset:\n",
    "\n",
    "# Plot\n",
    "colors=['#4169E1','#B22222']\n",
    "\n",
    "fig, ax = plt.subplots()\n",
    "df_cleaned['CLAIMS'].value_counts().plot.pie(explode=[0,0.1], colors=colors, autopct='%1.1f%%',shadow=True)\n",
    "plt.title('Percentage of Claims Made')\n",
    "\n",
    "plt.show()"
   ]
  },
  {
   "cell_type": "markdown",
   "id": "dbc9cb8b",
   "metadata": {
    "papermill": {
     "duration": 0.029806,
     "end_time": "2024-09-29T13:25:57.958878",
     "exception": false,
     "start_time": "2024-09-29T13:25:57.929072",
     "status": "completed"
    },
    "tags": []
   },
   "source": [
    "Here we can see that one third of the customers on the dataset have made one or more claims."
   ]
  },
  {
   "cell_type": "markdown",
   "id": "fc554c9f",
   "metadata": {
    "papermill": {
     "duration": 0.030275,
     "end_time": "2024-09-29T13:25:58.019937",
     "exception": false,
     "start_time": "2024-09-29T13:25:57.989662",
     "status": "completed"
    },
    "tags": []
   },
   "source": [
    "## **SUMMARY INSIGHTS**\n",
    "\n"
   ]
  },
  {
   "cell_type": "markdown",
   "id": "c44293da",
   "metadata": {
    "papermill": {
     "duration": 0.02951,
     "end_time": "2024-09-29T13:25:58.080005",
     "exception": false,
     "start_time": "2024-09-29T13:25:58.050495",
     "status": "completed"
    },
    "tags": []
   },
   "source": [
    "From the data visualisations I created above, I wanted to analyse the effect of age and driving experience on the number of speeding violations, DUIS and claims made.\n",
    "\n",
    "Age and driving experience result in very similar patterns and therefore generally go hand in hand.\n",
    "\n",
    "Young drivers are generally inexperienced drivers and are likely to have more accidents resulting in more claims. They are also less likely to own their own vehicle, often being named as a secondary driver on a policy. However, they have fewer speeding violations and DUIS agains them than the older age group. Conversely, although the older age groups tend to have more driving experience, resulting in fewer claims they tend to receive more speeding violations and DUIS than the younger drivers. All these factors: speeding violations, DUIS, claims,age and driving experience, are considered risk factors by insurers, so taking these them into account is vital for determining the final price of customers' insurance policies. \n",
    "\n",
    "Customers who have no or very few speeding violations, DUIS and/or claims are considered very low risk and therefore their insurance premiums will be much lower, because they are considered safer drivers and are less likely to receive any violations or make any claims in the future. Conversely, those customers with more than one speeding conviction, DUI and/or claim will be considered high risk, as they are likely to accumulate more violations or claims in the future.\n",
    "\n",
    "By far the most common risk factor is speeding violations, with 49.7% of the customers on the dataset having received 1 or more. The next risk factor is claims, with 31.1% of customers making a claim. Far fewer customers, 18.9%, were caught driving under the influence of alcohol and drugs.\n",
    "\n",
    "The dataset provides the scope for much deeper analysis and the information can also be used as a prediction model for claims and other underwriting risk factors. However, for the purpose of this assignment, I have kept it simple and limited my observations to the impact of age and driving experience on three main risk factors: claims, speeding violations and driving under the influence (DUIS)."
   ]
  }
 ],
 "metadata": {
  "kaggle": {
   "accelerator": "none",
   "dataSources": [
    {
     "datasetId": 1450044,
     "sourceId": 2398086,
     "sourceType": "datasetVersion"
    }
   ],
   "dockerImageVersionId": 30761,
   "isGpuEnabled": false,
   "isInternetEnabled": false,
   "language": "python",
   "sourceType": "notebook"
  },
  "kernelspec": {
   "display_name": "Python 3",
   "language": "python",
   "name": "python3"
  },
  "language_info": {
   "codemirror_mode": {
    "name": "ipython",
    "version": 3
   },
   "file_extension": ".py",
   "mimetype": "text/x-python",
   "name": "python",
   "nbconvert_exporter": "python",
   "pygments_lexer": "ipython3",
   "version": "3.10.14"
  },
  "papermill": {
   "default_parameters": {},
   "duration": 13.793311,
   "end_time": "2024-09-29T13:25:58.831718",
   "environment_variables": {},
   "exception": null,
   "input_path": "__notebook__.ipynb",
   "output_path": "__notebook__.ipynb",
   "parameters": {},
   "start_time": "2024-09-29T13:25:45.038407",
   "version": "2.6.0"
  }
 },
 "nbformat": 4,
 "nbformat_minor": 5
}
